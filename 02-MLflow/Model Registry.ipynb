{
 "cells": [
  {
   "cell_type": "code",
   "execution_count": 63,
   "id": "87b425a9",
   "metadata": {},
   "outputs": [],
   "source": [
    "from mlflow.tracking import MlflowClient"
   ]
  },
  {
   "cell_type": "code",
   "execution_count": 64,
   "id": "5356bda4",
   "metadata": {},
   "outputs": [
    {
     "data": {
      "text/plain": [
       "'3.1.4'"
      ]
     },
     "execution_count": 64,
     "metadata": {},
     "output_type": "execute_result"
    }
   ],
   "source": [
    "import mlflow\n",
    "\n",
    "mlflow.__version__"
   ]
  },
  {
   "cell_type": "code",
   "execution_count": 65,
   "id": "eb64e638",
   "metadata": {},
   "outputs": [],
   "source": [
    "MLFLOW_TRACKING_URI = \"sqlite:///mlflow.db\"\n",
    "\n",
    "#client side is the usage of mlflow ui using code\n",
    "client=MlflowClient(tracking_uri=MLFLOW_TRACKING_URI)"
   ]
  },
  {
   "cell_type": "code",
   "execution_count": 66,
   "id": "d22544a7",
   "metadata": {},
   "outputs": [
    {
     "data": {
      "text/plain": [
       "[<Experiment: artifact_location='/workspaces/MLops-cookin-/02-MLflow/mlruns/1', creation_time=1758188410351, experiment_id='1', last_update_time=1758188410351, lifecycle_stage='active', name='Mlflow_cooking', tags={}>]"
      ]
     },
     "execution_count": 66,
     "metadata": {},
     "output_type": "execute_result"
    }
   ],
   "source": [
    "#searching for the experiments\n",
    "client.search_experiments()"
   ]
  },
  {
   "cell_type": "code",
   "execution_count": 67,
   "id": "c6e368ae",
   "metadata": {},
   "outputs": [],
   "source": [
    "from mlflow.entities import ViewType\n",
    "\n",
    "# import the top 5 model having less rmse\n",
    "runs=client.search_runs(\n",
    "    experiment_ids='1',\n",
    "    filter_string=\"metrics.rmse > 6.6\",\n",
    "    run_view_type=ViewType.ACTIVE_ONLY,\n",
    "    max_results=5,\n",
    "    order_by=[\"metrics.rmse ASC\"]\n",
    ")"
   ]
  },
  {
   "cell_type": "code",
   "execution_count": 68,
   "id": "928257dd",
   "metadata": {},
   "outputs": [
    {
     "name": "stdout",
     "output_type": "stream",
     "text": [
      "run id:10c41ca1c5044913aeb3b399b55ec60a, rmse:6.6196\n",
      "run id:5b767026cb504cdea56495e21410848d, rmse:6.6279\n",
      "run id:557bde03037843a2a894c6de53dc819e, rmse:6.6297\n",
      "run id:76bfe7159b6c4cf586309654e424f5e2, rmse:6.6299\n",
      "run id:8afca3a497d347bbbbc7d3b03588f47d, rmse:6.6368\n"
     ]
    }
   ],
   "source": [
    "for run in runs:\n",
    "    print(f\"run id:{run.info.run_id}, rmse:{run.data.metrics['rmse']:.4f}\")"
   ]
  },
  {
   "cell_type": "code",
   "execution_count": 69,
   "id": "fcb28d6f",
   "metadata": {},
   "outputs": [],
   "source": [
    "import mlflow"
   ]
  },
  {
   "cell_type": "code",
   "execution_count": 70,
   "id": "c1d2cf3d",
   "metadata": {},
   "outputs": [],
   "source": [
    "mlflow.set_tracking_uri(MLFLOW_TRACKING_URI)"
   ]
  },
  {
   "cell_type": "code",
   "execution_count": 71,
   "id": "ba87c5b0",
   "metadata": {},
   "outputs": [
    {
     "name": "stderr",
     "output_type": "stream",
     "text": [
      "2025/09/21 11:37:19 INFO mlflow.store.db.utils: Creating initial MLflow database tables...\n",
      "2025/09/21 11:37:19 INFO mlflow.store.db.utils: Updating database tables\n",
      "INFO  [alembic.runtime.migration] Context impl SQLiteImpl.\n",
      "INFO  [alembic.runtime.migration] Will assume non-transactional DDL.\n",
      "Registered model 'nyc_taxi' already exists. Creating a new version of this model...\n",
      "Created version '4' of model 'nyc_taxi'.\n"
     ]
    },
    {
     "data": {
      "text/plain": [
       "<ModelVersion: aliases=[], creation_timestamp=1758454639278, current_stage='None', deployment_job_state=None, description=None, last_updated_timestamp=1758454639278, metrics=None, model_id=None, name='nyc_taxi', params=None, run_id=None, run_link=None, source='file:///workspaces/MLops-cookin-/02-MLflow/mlruns/1/models/m-f664fd8e209f4c739b361698cd2106c7/artifacts', status='READY', status_message=None, tags={}, user_id=None, version=4>"
      ]
     },
     "execution_count": 71,
     "metadata": {},
     "output_type": "execute_result"
    }
   ],
   "source": [
    "#appending the experiment into model\n",
    "run_id=\"m-f664fd8e209f4c739b361698cd2106c7\"\n",
    "model_uri=f\"file:///workspaces/MLops-cookin-/02-MLflow/mlruns/1/models/{run_id}/artifacts\"\n",
    "mlflow.register_model(model_uri=model_uri, name=\"nyc_taxi\")"
   ]
  },
  {
   "cell_type": "code",
   "execution_count": 72,
   "id": "61fd660d",
   "metadata": {},
   "outputs": [
    {
     "data": {
      "text/plain": [
       "[<RegisteredModel: aliases={}, creation_timestamp=1758368041023, deployment_job_id=None, deployment_job_state=None, description='this is nyc taxi predictor\\n', last_updated_timestamp=1758454639278, latest_versions=[<ModelVersion: aliases=[], creation_timestamp=1758369998896, current_stage='Staging', deployment_job_state=None, description='The model version 3 was transitioned to Staging on 2025-09-20', last_updated_timestamp=1758371253908, metrics=None, model_id=None, name='nyc_taxi', params=None, run_id=None, run_link=None, source='file:///workspaces/MLops-cookin-/02-MLflow/mlruns/1/models/m-f664fd8e209f4c739b361698cd2106c7/artifacts', status='READY', status_message=None, tags={}, user_id=None, version=3>,\n",
       "  <ModelVersion: aliases=[], creation_timestamp=1758454639278, current_stage='None', deployment_job_state=None, description=None, last_updated_timestamp=1758454639278, metrics=None, model_id=None, name='nyc_taxi', params=None, run_id=None, run_link=None, source='file:///workspaces/MLops-cookin-/02-MLflow/mlruns/1/models/m-f664fd8e209f4c739b361698cd2106c7/artifacts', status='READY', status_message=None, tags={}, user_id=None, version=4>], name='nyc_taxi', tags={}>]"
      ]
     },
     "execution_count": 72,
     "metadata": {},
     "output_type": "execute_result"
    }
   ],
   "source": [
    "client.search_registered_models()"
   ]
  },
  {
   "cell_type": "code",
   "execution_count": 73,
   "id": "857d06f4",
   "metadata": {},
   "outputs": [
    {
     "name": "stderr",
     "output_type": "stream",
     "text": [
      "/tmp/ipykernel_10574/2720639949.py:2: FutureWarning: ``mlflow.tracking.client.MlflowClient.get_latest_versions`` is deprecated since 2.9.0. Model registry stages will be removed in a future major release. To learn more about the deprecation of model registry stages, see our migration guide here: https://mlflow.org/docs/latest/model-registry.html#migrating-from-stages\n",
      "  client.get_latest_versions(name=model_name)\n"
     ]
    },
    {
     "data": {
      "text/plain": [
       "[<ModelVersion: aliases=[], creation_timestamp=1758369998896, current_stage='Staging', deployment_job_state=None, description='The model version 3 was transitioned to Staging on 2025-09-20', last_updated_timestamp=1758371253908, metrics=None, model_id=None, name='nyc_taxi', params=None, run_id=None, run_link=None, source='file:///workspaces/MLops-cookin-/02-MLflow/mlruns/1/models/m-f664fd8e209f4c739b361698cd2106c7/artifacts', status='READY', status_message=None, tags={}, user_id=None, version=3>,\n",
       " <ModelVersion: aliases=[], creation_timestamp=1758454639278, current_stage='None', deployment_job_state=None, description=None, last_updated_timestamp=1758454639278, metrics=None, model_id=None, name='nyc_taxi', params=None, run_id=None, run_link=None, source='file:///workspaces/MLops-cookin-/02-MLflow/mlruns/1/models/m-f664fd8e209f4c739b361698cd2106c7/artifacts', status='READY', status_message=None, tags={}, user_id=None, version=4>]"
      ]
     },
     "execution_count": 73,
     "metadata": {},
     "output_type": "execute_result"
    }
   ],
   "source": [
    "model_name=\"nyc_taxi\"\n",
    "client.get_latest_versions(name=model_name)"
   ]
  },
  {
   "cell_type": "code",
   "execution_count": 74,
   "id": "672d8983",
   "metadata": {},
   "outputs": [
    {
     "name": "stdout",
     "output_type": "stream",
     "text": [
      "version: 3, stage:Staging\n",
      "version: 4, stage:None\n"
     ]
    },
    {
     "name": "stderr",
     "output_type": "stream",
     "text": [
      "/tmp/ipykernel_10574/1885879352.py:2: FutureWarning: ``mlflow.tracking.client.MlflowClient.get_latest_versions`` is deprecated since 2.9.0. Model registry stages will be removed in a future major release. To learn more about the deprecation of model registry stages, see our migration guide here: https://mlflow.org/docs/latest/model-registry.html#migrating-from-stages\n",
      "  lastest_version=client.get_latest_versions(name=model_name)\n"
     ]
    }
   ],
   "source": [
    "model_name=\"nyc_taxi\"\n",
    "lastest_version=client.get_latest_versions(name=model_name)\n",
    "\n",
    "for version in lastest_version:\n",
    "    print(f\"version: {version.version}, stage:{version.current_stage}\")"
   ]
  },
  {
   "cell_type": "code",
   "execution_count": 75,
   "id": "8ca5d617",
   "metadata": {},
   "outputs": [
    {
     "name": "stderr",
     "output_type": "stream",
     "text": [
      "/tmp/ipykernel_10574/2703597925.py:2: FutureWarning: ``mlflow.tracking.client.MlflowClient.transition_model_version_stage`` is deprecated since 2.9.0. Model registry stages will be removed in a future major release. To learn more about the deprecation of model registry stages, see our migration guide here: https://mlflow.org/docs/latest/model-registry.html#migrating-from-stages\n",
      "  client.transition_model_version_stage(\n"
     ]
    },
    {
     "data": {
      "text/plain": [
       "<ModelVersion: aliases=[], creation_timestamp=1758369998896, current_stage='Staging', deployment_job_state=None, description='The model version 3 was transitioned to Staging on 2025-09-20', last_updated_timestamp=1758454639347, metrics=None, model_id=None, name='nyc_taxi', params=None, run_id=None, run_link=None, source='file:///workspaces/MLops-cookin-/02-MLflow/mlruns/1/models/m-f664fd8e209f4c739b361698cd2106c7/artifacts', status='READY', status_message=None, tags={}, user_id=None, version=3>"
      ]
     },
     "execution_count": 75,
     "metadata": {},
     "output_type": "execute_result"
    }
   ],
   "source": [
    "#changing the stage version\n",
    "client.transition_model_version_stage(\n",
    "    name=model_name,\n",
    "    version=3,\n",
    "    stage=\"Staging\",\n",
    "    archive_existing_versions=False\n",
    ")"
   ]
  },
  {
   "cell_type": "code",
   "execution_count": 83,
   "id": "f12fc880",
   "metadata": {},
   "outputs": [
    {
     "ename": "MlflowException",
     "evalue": "Attempting to update model version with no new field values.",
     "output_type": "error",
     "traceback": [
      "\u001b[0;31m---------------------------------------------------------------------------\u001b[0m",
      "\u001b[0;31mMlflowException\u001b[0m                           Traceback (most recent call last)",
      "Input \u001b[0;32mIn [83]\u001b[0m, in \u001b[0;36m<cell line: 6>\u001b[0;34m()\u001b[0m\n\u001b[1;32m      3\u001b[0m \u001b[38;5;28;01mfrom\u001b[39;00m \u001b[38;5;21;01mdatetime\u001b[39;00m \u001b[38;5;28;01mimport\u001b[39;00m datetime\n\u001b[1;32m      5\u001b[0m date\u001b[38;5;241m=\u001b[39mdatetime\u001b[38;5;241m.\u001b[39mtoday()\u001b[38;5;241m.\u001b[39mdate()\n\u001b[0;32m----> 6\u001b[0m \u001b[43mclient\u001b[49m\u001b[38;5;241;43m.\u001b[39;49m\u001b[43mupdate_model_version\u001b[49m\u001b[43m(\u001b[49m\n\u001b[1;32m      7\u001b[0m \u001b[43m    \u001b[49m\u001b[43mname\u001b[49m\u001b[38;5;241;43m=\u001b[39;49m\u001b[43mmodel_name\u001b[49m\u001b[43m,\u001b[49m\n\u001b[1;32m      8\u001b[0m \u001b[43m    \u001b[49m\u001b[43mversion\u001b[49m\u001b[38;5;241;43m=\u001b[39;49m\u001b[43mmodel_version\u001b[49m\n\u001b[1;32m      9\u001b[0m \u001b[43m)\u001b[49m\n",
      "File \u001b[0;32m~/anaconda3/lib/python3.9/site-packages/mlflow/tracking/client.py:4449\u001b[0m, in \u001b[0;36mMlflowClient.update_model_version\u001b[0;34m(self, name, version, description)\u001b[0m\n\u001b[1;32m   4385\u001b[0m \u001b[38;5;124;03m\"\"\"\u001b[39;00m\n\u001b[1;32m   4386\u001b[0m \u001b[38;5;124;03mUpdate metadata associated with a model version in backend.\u001b[39;00m\n\u001b[1;32m   4387\u001b[0m \n\u001b[0;32m   (...)\u001b[0m\n\u001b[1;32m   4446\u001b[0m \u001b[38;5;124;03m    Description: A new version of the model using ensemble trees\u001b[39;00m\n\u001b[1;32m   4447\u001b[0m \u001b[38;5;124;03m\"\"\"\u001b[39;00m\n\u001b[1;32m   4448\u001b[0m \u001b[38;5;28;01mif\u001b[39;00m description \u001b[38;5;129;01mis\u001b[39;00m \u001b[38;5;28;01mNone\u001b[39;00m:\n\u001b[0;32m-> 4449\u001b[0m     \u001b[38;5;28;01mraise\u001b[39;00m MlflowException(\u001b[38;5;124m\"\u001b[39m\u001b[38;5;124mAttempting to update model version with no new field values.\u001b[39m\u001b[38;5;124m\"\u001b[39m)\n\u001b[1;32m   4451\u001b[0m \u001b[38;5;28mself\u001b[39m\u001b[38;5;241m.\u001b[39m_raise_if_prompt(name)\n\u001b[1;32m   4452\u001b[0m \u001b[38;5;28;01mreturn\u001b[39;00m \u001b[38;5;28mself\u001b[39m\u001b[38;5;241m.\u001b[39m_get_registry_client()\u001b[38;5;241m.\u001b[39mupdate_model_version(\n\u001b[1;32m   4453\u001b[0m     name\u001b[38;5;241m=\u001b[39mname, version\u001b[38;5;241m=\u001b[39mversion, description\u001b[38;5;241m=\u001b[39mdescription\n\u001b[1;32m   4454\u001b[0m )\n",
      "\u001b[0;31mMlflowException\u001b[0m: Attempting to update model version with no new field values."
     ]
    }
   ],
   "source": [
    "model_version=5\n",
    "stage=\"Staging\"\n",
    "from datetime import datetime\n",
    "\n",
    "date=datetime.today().date()\n",
    "client.update_model_version(\n",
    "    name=model_name,\n",
    "    version=model_version\n",
    ")"
   ]
  },
  {
   "cell_type": "code",
   "execution_count": 84,
   "id": "fac49384",
   "metadata": {},
   "outputs": [],
   "source": [
    "from sklearn.metrics import mean_squared_error"
   ]
  },
  {
   "cell_type": "code",
   "execution_count": 85,
   "id": "463bc6e9",
   "metadata": {},
   "outputs": [],
   "source": [
    "import pandas as pd"
   ]
  },
  {
   "cell_type": "code",
   "execution_count": 86,
   "id": "fc828cc6",
   "metadata": {},
   "outputs": [],
   "source": [
    "def read_dataframe(filename):\n",
    "    df=pd.read_parquet(filename)\n",
    "    \n",
    "    df.lpep_dropoff_datetime = pd.to_datetime(df.lpep_dropoff_datetime)\n",
    "    df.lpep_pickup_datetime = pd.to_datetime(df.lpep_pickup_datetime)\n",
    "    \n",
    "    df['duration'] = df.lpep_dropoff_datetime - df.lpep_pickup_datetime\n",
    "    df.duration = df.duration.apply(lambda td :td.total_seconds() / 60)\n",
    "    \n",
    "    df= df[(df.duration >= 1.0) & (df.duration <=63)]\n",
    "    \n",
    "    categorical= ['PULocationID', 'DOLocationID']\n",
    "    df[categorical]=df[categorical].astype(str)\n",
    "    \n",
    "    return df\n",
    "\n",
    "def preprocess(df, dv):\n",
    "    df[\"PU_DO\"] = df[\"PULocationID\"] + '_' + df[\"DOLocationID\"]\n",
    "    categorical=[\"PU_DO\"]\n",
    "    numerical=[\"trip_distance\"]\n",
    "    train_dicts=df[categorical + numerical].to_dict(orient='records')\n",
    "    return dv.transform(train_dicts)\n",
    "\n",
    "\n",
    "def test_model(name, stage, X_test, y_test):\n",
    "    model = mlflow.pyfunc.load_model(f\"models:/{name}/{stage}\")\n",
    "    y_pred=model.predict(X_test)\n",
    "    return {\"rmse\":mean_squared_error(y_test, y_pred, squared=False)}\n"
   ]
  },
  {
   "cell_type": "code",
   "execution_count": 87,
   "id": "2f2657f3",
   "metadata": {},
   "outputs": [],
   "source": [
    "df=read_dataframe(\"https://d37ci6vzurychx.cloudfront.net/trip-data/green_tripdata_2021-03.parquet\")"
   ]
  },
  {
   "cell_type": "code",
   "execution_count": 88,
   "id": "39a8f306",
   "metadata": {},
   "outputs": [
    {
     "data": {
      "text/html": [
       "<div>\n",
       "<style scoped>\n",
       "    .dataframe tbody tr th:only-of-type {\n",
       "        vertical-align: middle;\n",
       "    }\n",
       "\n",
       "    .dataframe tbody tr th {\n",
       "        vertical-align: top;\n",
       "    }\n",
       "\n",
       "    .dataframe thead th {\n",
       "        text-align: right;\n",
       "    }\n",
       "</style>\n",
       "<table border=\"1\" class=\"dataframe\">\n",
       "  <thead>\n",
       "    <tr style=\"text-align: right;\">\n",
       "      <th></th>\n",
       "      <th>VendorID</th>\n",
       "      <th>lpep_pickup_datetime</th>\n",
       "      <th>lpep_dropoff_datetime</th>\n",
       "      <th>store_and_fwd_flag</th>\n",
       "      <th>RatecodeID</th>\n",
       "      <th>PULocationID</th>\n",
       "      <th>DOLocationID</th>\n",
       "      <th>passenger_count</th>\n",
       "      <th>trip_distance</th>\n",
       "      <th>fare_amount</th>\n",
       "      <th>...</th>\n",
       "      <th>mta_tax</th>\n",
       "      <th>tip_amount</th>\n",
       "      <th>tolls_amount</th>\n",
       "      <th>ehail_fee</th>\n",
       "      <th>improvement_surcharge</th>\n",
       "      <th>total_amount</th>\n",
       "      <th>payment_type</th>\n",
       "      <th>trip_type</th>\n",
       "      <th>congestion_surcharge</th>\n",
       "      <th>duration</th>\n",
       "    </tr>\n",
       "  </thead>\n",
       "  <tbody>\n",
       "    <tr>\n",
       "      <th>0</th>\n",
       "      <td>2</td>\n",
       "      <td>2021-03-01 00:05:42</td>\n",
       "      <td>2021-03-01 00:14:03</td>\n",
       "      <td>N</td>\n",
       "      <td>1.0</td>\n",
       "      <td>83</td>\n",
       "      <td>129</td>\n",
       "      <td>1.0</td>\n",
       "      <td>1.56</td>\n",
       "      <td>7.50</td>\n",
       "      <td>...</td>\n",
       "      <td>0.5</td>\n",
       "      <td>0.00</td>\n",
       "      <td>0.0</td>\n",
       "      <td>None</td>\n",
       "      <td>0.3</td>\n",
       "      <td>8.80</td>\n",
       "      <td>1.0</td>\n",
       "      <td>1.0</td>\n",
       "      <td>0.0</td>\n",
       "      <td>8.350000</td>\n",
       "    </tr>\n",
       "    <tr>\n",
       "      <th>1</th>\n",
       "      <td>2</td>\n",
       "      <td>2021-03-01 00:21:03</td>\n",
       "      <td>2021-03-01 00:26:17</td>\n",
       "      <td>N</td>\n",
       "      <td>1.0</td>\n",
       "      <td>243</td>\n",
       "      <td>235</td>\n",
       "      <td>1.0</td>\n",
       "      <td>0.96</td>\n",
       "      <td>6.00</td>\n",
       "      <td>...</td>\n",
       "      <td>0.5</td>\n",
       "      <td>0.00</td>\n",
       "      <td>0.0</td>\n",
       "      <td>None</td>\n",
       "      <td>0.3</td>\n",
       "      <td>7.30</td>\n",
       "      <td>2.0</td>\n",
       "      <td>1.0</td>\n",
       "      <td>0.0</td>\n",
       "      <td>5.233333</td>\n",
       "    </tr>\n",
       "    <tr>\n",
       "      <th>2</th>\n",
       "      <td>2</td>\n",
       "      <td>2021-03-01 00:02:06</td>\n",
       "      <td>2021-03-01 00:22:26</td>\n",
       "      <td>N</td>\n",
       "      <td>1.0</td>\n",
       "      <td>75</td>\n",
       "      <td>242</td>\n",
       "      <td>1.0</td>\n",
       "      <td>9.93</td>\n",
       "      <td>28.00</td>\n",
       "      <td>...</td>\n",
       "      <td>0.5</td>\n",
       "      <td>2.00</td>\n",
       "      <td>0.0</td>\n",
       "      <td>None</td>\n",
       "      <td>0.3</td>\n",
       "      <td>31.30</td>\n",
       "      <td>1.0</td>\n",
       "      <td>1.0</td>\n",
       "      <td>0.0</td>\n",
       "      <td>20.333333</td>\n",
       "    </tr>\n",
       "    <tr>\n",
       "      <th>3</th>\n",
       "      <td>2</td>\n",
       "      <td>2021-03-01 00:24:03</td>\n",
       "      <td>2021-03-01 00:31:43</td>\n",
       "      <td>N</td>\n",
       "      <td>1.0</td>\n",
       "      <td>242</td>\n",
       "      <td>208</td>\n",
       "      <td>1.0</td>\n",
       "      <td>2.57</td>\n",
       "      <td>9.50</td>\n",
       "      <td>...</td>\n",
       "      <td>0.5</td>\n",
       "      <td>0.00</td>\n",
       "      <td>0.0</td>\n",
       "      <td>None</td>\n",
       "      <td>0.3</td>\n",
       "      <td>10.80</td>\n",
       "      <td>2.0</td>\n",
       "      <td>1.0</td>\n",
       "      <td>0.0</td>\n",
       "      <td>7.666667</td>\n",
       "    </tr>\n",
       "    <tr>\n",
       "      <th>4</th>\n",
       "      <td>1</td>\n",
       "      <td>2021-03-01 00:11:10</td>\n",
       "      <td>2021-03-01 00:14:46</td>\n",
       "      <td>N</td>\n",
       "      <td>1.0</td>\n",
       "      <td>41</td>\n",
       "      <td>151</td>\n",
       "      <td>1.0</td>\n",
       "      <td>0.80</td>\n",
       "      <td>5.00</td>\n",
       "      <td>...</td>\n",
       "      <td>0.5</td>\n",
       "      <td>1.85</td>\n",
       "      <td>0.0</td>\n",
       "      <td>None</td>\n",
       "      <td>0.3</td>\n",
       "      <td>8.15</td>\n",
       "      <td>1.0</td>\n",
       "      <td>1.0</td>\n",
       "      <td>0.0</td>\n",
       "      <td>3.600000</td>\n",
       "    </tr>\n",
       "    <tr>\n",
       "      <th>...</th>\n",
       "      <td>...</td>\n",
       "      <td>...</td>\n",
       "      <td>...</td>\n",
       "      <td>...</td>\n",
       "      <td>...</td>\n",
       "      <td>...</td>\n",
       "      <td>...</td>\n",
       "      <td>...</td>\n",
       "      <td>...</td>\n",
       "      <td>...</td>\n",
       "      <td>...</td>\n",
       "      <td>...</td>\n",
       "      <td>...</td>\n",
       "      <td>...</td>\n",
       "      <td>...</td>\n",
       "      <td>...</td>\n",
       "      <td>...</td>\n",
       "      <td>...</td>\n",
       "      <td>...</td>\n",
       "      <td>...</td>\n",
       "      <td>...</td>\n",
       "    </tr>\n",
       "    <tr>\n",
       "      <th>83822</th>\n",
       "      <td>2</td>\n",
       "      <td>2021-03-31 22:07:00</td>\n",
       "      <td>2021-03-31 22:13:00</td>\n",
       "      <td>None</td>\n",
       "      <td>NaN</td>\n",
       "      <td>41</td>\n",
       "      <td>75</td>\n",
       "      <td>NaN</td>\n",
       "      <td>1.48</td>\n",
       "      <td>8.46</td>\n",
       "      <td>...</td>\n",
       "      <td>0.0</td>\n",
       "      <td>1.44</td>\n",
       "      <td>0.0</td>\n",
       "      <td>None</td>\n",
       "      <td>0.3</td>\n",
       "      <td>10.20</td>\n",
       "      <td>NaN</td>\n",
       "      <td>NaN</td>\n",
       "      <td>NaN</td>\n",
       "      <td>6.000000</td>\n",
       "    </tr>\n",
       "    <tr>\n",
       "      <th>83823</th>\n",
       "      <td>2</td>\n",
       "      <td>2021-03-31 22:56:00</td>\n",
       "      <td>2021-03-31 23:13:00</td>\n",
       "      <td>None</td>\n",
       "      <td>NaN</td>\n",
       "      <td>95</td>\n",
       "      <td>95</td>\n",
       "      <td>NaN</td>\n",
       "      <td>0.09</td>\n",
       "      <td>54.25</td>\n",
       "      <td>...</td>\n",
       "      <td>0.0</td>\n",
       "      <td>0.00</td>\n",
       "      <td>0.0</td>\n",
       "      <td>None</td>\n",
       "      <td>0.3</td>\n",
       "      <td>57.30</td>\n",
       "      <td>NaN</td>\n",
       "      <td>NaN</td>\n",
       "      <td>NaN</td>\n",
       "      <td>17.000000</td>\n",
       "    </tr>\n",
       "    <tr>\n",
       "      <th>83824</th>\n",
       "      <td>2</td>\n",
       "      <td>2021-03-31 22:36:00</td>\n",
       "      <td>2021-03-31 22:45:00</td>\n",
       "      <td>None</td>\n",
       "      <td>NaN</td>\n",
       "      <td>95</td>\n",
       "      <td>95</td>\n",
       "      <td>NaN</td>\n",
       "      <td>0.66</td>\n",
       "      <td>8.11</td>\n",
       "      <td>...</td>\n",
       "      <td>0.0</td>\n",
       "      <td>0.00</td>\n",
       "      <td>0.0</td>\n",
       "      <td>None</td>\n",
       "      <td>0.3</td>\n",
       "      <td>8.41</td>\n",
       "      <td>NaN</td>\n",
       "      <td>NaN</td>\n",
       "      <td>NaN</td>\n",
       "      <td>9.000000</td>\n",
       "    </tr>\n",
       "    <tr>\n",
       "      <th>83825</th>\n",
       "      <td>2</td>\n",
       "      <td>2021-03-31 23:35:00</td>\n",
       "      <td>2021-04-01 00:00:00</td>\n",
       "      <td>None</td>\n",
       "      <td>NaN</td>\n",
       "      <td>37</td>\n",
       "      <td>14</td>\n",
       "      <td>NaN</td>\n",
       "      <td>9.58</td>\n",
       "      <td>36.83</td>\n",
       "      <td>...</td>\n",
       "      <td>0.0</td>\n",
       "      <td>0.00</td>\n",
       "      <td>0.0</td>\n",
       "      <td>None</td>\n",
       "      <td>0.3</td>\n",
       "      <td>39.88</td>\n",
       "      <td>NaN</td>\n",
       "      <td>NaN</td>\n",
       "      <td>NaN</td>\n",
       "      <td>25.000000</td>\n",
       "    </tr>\n",
       "    <tr>\n",
       "      <th>83826</th>\n",
       "      <td>2</td>\n",
       "      <td>2021-03-31 23:23:00</td>\n",
       "      <td>2021-03-31 23:32:00</td>\n",
       "      <td>None</td>\n",
       "      <td>NaN</td>\n",
       "      <td>116</td>\n",
       "      <td>166</td>\n",
       "      <td>NaN</td>\n",
       "      <td>1.88</td>\n",
       "      <td>9.46</td>\n",
       "      <td>...</td>\n",
       "      <td>0.0</td>\n",
       "      <td>2.14</td>\n",
       "      <td>0.0</td>\n",
       "      <td>None</td>\n",
       "      <td>0.3</td>\n",
       "      <td>11.90</td>\n",
       "      <td>NaN</td>\n",
       "      <td>NaN</td>\n",
       "      <td>NaN</td>\n",
       "      <td>9.000000</td>\n",
       "    </tr>\n",
       "  </tbody>\n",
       "</table>\n",
       "<p>80733 rows × 21 columns</p>\n",
       "</div>"
      ],
      "text/plain": [
       "       VendorID lpep_pickup_datetime lpep_dropoff_datetime store_and_fwd_flag  \\\n",
       "0             2  2021-03-01 00:05:42   2021-03-01 00:14:03                  N   \n",
       "1             2  2021-03-01 00:21:03   2021-03-01 00:26:17                  N   \n",
       "2             2  2021-03-01 00:02:06   2021-03-01 00:22:26                  N   \n",
       "3             2  2021-03-01 00:24:03   2021-03-01 00:31:43                  N   \n",
       "4             1  2021-03-01 00:11:10   2021-03-01 00:14:46                  N   \n",
       "...         ...                  ...                   ...                ...   \n",
       "83822         2  2021-03-31 22:07:00   2021-03-31 22:13:00               None   \n",
       "83823         2  2021-03-31 22:56:00   2021-03-31 23:13:00               None   \n",
       "83824         2  2021-03-31 22:36:00   2021-03-31 22:45:00               None   \n",
       "83825         2  2021-03-31 23:35:00   2021-04-01 00:00:00               None   \n",
       "83826         2  2021-03-31 23:23:00   2021-03-31 23:32:00               None   \n",
       "\n",
       "       RatecodeID PULocationID DOLocationID  passenger_count  trip_distance  \\\n",
       "0             1.0           83          129              1.0           1.56   \n",
       "1             1.0          243          235              1.0           0.96   \n",
       "2             1.0           75          242              1.0           9.93   \n",
       "3             1.0          242          208              1.0           2.57   \n",
       "4             1.0           41          151              1.0           0.80   \n",
       "...           ...          ...          ...              ...            ...   \n",
       "83822         NaN           41           75              NaN           1.48   \n",
       "83823         NaN           95           95              NaN           0.09   \n",
       "83824         NaN           95           95              NaN           0.66   \n",
       "83825         NaN           37           14              NaN           9.58   \n",
       "83826         NaN          116          166              NaN           1.88   \n",
       "\n",
       "       fare_amount  ...  mta_tax  tip_amount  tolls_amount  ehail_fee  \\\n",
       "0             7.50  ...      0.5        0.00           0.0       None   \n",
       "1             6.00  ...      0.5        0.00           0.0       None   \n",
       "2            28.00  ...      0.5        2.00           0.0       None   \n",
       "3             9.50  ...      0.5        0.00           0.0       None   \n",
       "4             5.00  ...      0.5        1.85           0.0       None   \n",
       "...            ...  ...      ...         ...           ...        ...   \n",
       "83822         8.46  ...      0.0        1.44           0.0       None   \n",
       "83823        54.25  ...      0.0        0.00           0.0       None   \n",
       "83824         8.11  ...      0.0        0.00           0.0       None   \n",
       "83825        36.83  ...      0.0        0.00           0.0       None   \n",
       "83826         9.46  ...      0.0        2.14           0.0       None   \n",
       "\n",
       "      improvement_surcharge  total_amount  payment_type  trip_type  \\\n",
       "0                       0.3          8.80           1.0        1.0   \n",
       "1                       0.3          7.30           2.0        1.0   \n",
       "2                       0.3         31.30           1.0        1.0   \n",
       "3                       0.3         10.80           2.0        1.0   \n",
       "4                       0.3          8.15           1.0        1.0   \n",
       "...                     ...           ...           ...        ...   \n",
       "83822                   0.3         10.20           NaN        NaN   \n",
       "83823                   0.3         57.30           NaN        NaN   \n",
       "83824                   0.3          8.41           NaN        NaN   \n",
       "83825                   0.3         39.88           NaN        NaN   \n",
       "83826                   0.3         11.90           NaN        NaN   \n",
       "\n",
       "       congestion_surcharge   duration  \n",
       "0                       0.0   8.350000  \n",
       "1                       0.0   5.233333  \n",
       "2                       0.0  20.333333  \n",
       "3                       0.0   7.666667  \n",
       "4                       0.0   3.600000  \n",
       "...                     ...        ...  \n",
       "83822                   NaN   6.000000  \n",
       "83823                   NaN  17.000000  \n",
       "83824                   NaN   9.000000  \n",
       "83825                   NaN  25.000000  \n",
       "83826                   NaN   9.000000  \n",
       "\n",
       "[80733 rows x 21 columns]"
      ]
     },
     "execution_count": 88,
     "metadata": {},
     "output_type": "execute_result"
    }
   ],
   "source": [
    "df"
   ]
  },
  {
   "cell_type": "code",
   "execution_count": 89,
   "id": "68a4aa68",
   "metadata": {},
   "outputs": [],
   "source": [
    "path=\"/workspaces/MLops-cookin-/02-MLflow/mlruns/1/84b53fb51d0f4fc183dd524aefad1b64/artifacts/code/models/preprocessor.b\""
   ]
  },
  {
   "cell_type": "code",
   "execution_count": 90,
   "id": "61c2b9da",
   "metadata": {},
   "outputs": [
    {
     "data": {
      "application/vnd.jupyter.widget-view+json": {
       "model_id": "1c9dc702e4fc40f2ad2f0a9b5576eac1",
       "version_major": 2,
       "version_minor": 0
      },
      "text/plain": [
       "Downloading artifacts:   0%|          | 0/1 [00:00<?, ?it/s]"
      ]
     },
     "metadata": {},
     "output_type": "display_data"
    },
    {
     "data": {
      "text/plain": [
       "'/workspaces/MLops-cookin-/02-MLflow/preprocessor'"
      ]
     },
     "execution_count": 90,
     "metadata": {},
     "output_type": "execute_result"
    }
   ],
   "source": [
    "client.download_artifacts(run_id=\"9ec3ca2bef00476088c314f2ab4eb9ec\",path='preprocessor',dst_path='.')"
   ]
  },
  {
   "cell_type": "code",
   "execution_count": 91,
   "id": "148667c4",
   "metadata": {},
   "outputs": [],
   "source": [
    "import pickle \n",
    "with open(\"preprocessor/preprocessor.b\", 'rb') as f_in:\n",
    "    dv= pickle.load(f_in)"
   ]
  },
  {
   "cell_type": "code",
   "execution_count": 92,
   "id": "048672f1",
   "metadata": {},
   "outputs": [],
   "source": [
    "X_test=preprocess(df, dv)"
   ]
  },
  {
   "cell_type": "code",
   "execution_count": 93,
   "id": "2fc04220",
   "metadata": {},
   "outputs": [],
   "source": [
    "target=\"duration\"\n",
    "y_test=df[target].values"
   ]
  },
  {
   "cell_type": "code",
   "execution_count": 94,
   "id": "b2691f05",
   "metadata": {},
   "outputs": [],
   "source": [
    "model_name = \"nyc_taxi\"\n",
    "model_uri=\"/workspaces/MLops-cookin-/02-MLflow/mlruns/1/84b53fb51d0f4fc183dd524aefad1b64/artifacts/model.xgb\""
   ]
  },
  {
   "cell_type": "code",
   "execution_count": 95,
   "id": "45503472",
   "metadata": {},
   "outputs": [
    {
     "name": "stdout",
     "output_type": "stream",
     "text": [
      "CPU times: user 431 ms, sys: 3.4 ms, total: 434 ms\n",
      "Wall time: 234 ms\n"
     ]
    },
    {
     "data": {
      "text/plain": [
       "{'rmse': 8.653367367321271}"
      ]
     },
     "execution_count": 95,
     "metadata": {},
     "output_type": "execute_result"
    }
   ],
   "source": [
    "%time test_model(name=model_name, stage=\"Staging\", X_test=X_test, y_test=y_test)"
   ]
  },
  {
   "cell_type": "code",
   "execution_count": 97,
   "id": "82d7bf8c",
   "metadata": {},
   "outputs": [
    {
     "name": "stderr",
     "output_type": "stream",
     "text": [
      "/tmp/ipykernel_10574/3610659809.py:1: FutureWarning: ``mlflow.tracking.client.MlflowClient.transition_model_version_stage`` is deprecated since 2.9.0. Model registry stages will be removed in a future major release. To learn more about the deprecation of model registry stages, see our migration guide here: https://mlflow.org/docs/latest/model-registry.html#migrating-from-stages\n",
      "  client.transition_model_version_stage(\n"
     ]
    },
    {
     "data": {
      "text/plain": [
       "<ModelVersion: aliases=[], creation_timestamp=1758454639278, current_stage='Production', deployment_job_state=None, description=None, last_updated_timestamp=1758454806640, metrics=None, model_id=None, name='nyc_taxi', params=None, run_id=None, run_link=None, source='file:///workspaces/MLops-cookin-/02-MLflow/mlruns/1/models/m-f664fd8e209f4c739b361698cd2106c7/artifacts', status='READY', status_message=None, tags={}, user_id=None, version=4>"
      ]
     },
     "execution_count": 97,
     "metadata": {},
     "output_type": "execute_result"
    }
   ],
   "source": [
    "client.transition_model_version_stage(\n",
    "    name=model_name,\n",
    "    version=4,\n",
    "    stage=\"Production\",\n",
    "    archive_existing_versions=True\n",
    ")"
   ]
  },
  {
   "cell_type": "code",
   "execution_count": null,
   "id": "08016cc8",
   "metadata": {},
   "outputs": [],
   "source": []
  },
  {
   "cell_type": "code",
   "execution_count": null,
   "id": "ca88ab9d",
   "metadata": {},
   "outputs": [],
   "source": []
  }
 ],
 "metadata": {
  "kernelspec": {
   "display_name": "Python 3 (ipykernel)",
   "language": "python",
   "name": "python3"
  },
  "language_info": {
   "codemirror_mode": {
    "name": "ipython",
    "version": 3
   },
   "file_extension": ".py",
   "mimetype": "text/x-python",
   "name": "python",
   "nbconvert_exporter": "python",
   "pygments_lexer": "ipython3",
   "version": "3.9.12"
  }
 },
 "nbformat": 4,
 "nbformat_minor": 5
}
