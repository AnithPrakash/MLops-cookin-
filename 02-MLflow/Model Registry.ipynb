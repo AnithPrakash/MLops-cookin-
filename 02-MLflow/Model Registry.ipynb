{
 "cells": [
  {
   "cell_type": "code",
   "execution_count": 2,
   "id": "87b425a9",
   "metadata": {},
   "outputs": [],
   "source": [
    "from mlflow.tracking import MlflowClient"
   ]
  },
  {
   "cell_type": "code",
   "execution_count": 3,
   "id": "5356bda4",
   "metadata": {},
   "outputs": [
    {
     "data": {
      "text/plain": [
       "'3.1.4'"
      ]
     },
     "execution_count": 3,
     "metadata": {},
     "output_type": "execute_result"
    }
   ],
   "source": [
    "import mlflow\n",
    "\n",
    "mlflow.__version__"
   ]
  },
  {
   "cell_type": "code",
   "execution_count": 6,
   "id": "eb64e638",
   "metadata": {},
   "outputs": [],
   "source": [
    "MLFLOW_TRACKING_URI = \"sqlite:///mlflow.db\"\n",
    "\n",
    "#client side is the usage of mlflow ui using code\n",
    "client=MlflowClient(tracking_uri=MLFLOW_TRACKING_URI)"
   ]
  },
  {
   "cell_type": "code",
   "execution_count": 8,
   "id": "d22544a7",
   "metadata": {},
   "outputs": [
    {
     "data": {
      "text/plain": [
       "[<Experiment: artifact_location='/workspaces/MLops-cookin-/02-MLflow/mlruns/1', creation_time=1758188410351, experiment_id='1', last_update_time=1758188410351, lifecycle_stage='active', name='Mlflow_cooking', tags={}>]"
      ]
     },
     "execution_count": 8,
     "metadata": {},
     "output_type": "execute_result"
    }
   ],
   "source": [
    "#searching for the experiments\n",
    "client.search_experiments()"
   ]
  },
  {
   "cell_type": "code",
   "execution_count": 22,
   "id": "c6e368ae",
   "metadata": {},
   "outputs": [],
   "source": [
    "from mlflow.entities import ViewType\n",
    "\n",
    "# import the top 5 model having less rmse\n",
    "runs=client.search_runs(\n",
    "    experiment_ids='1',\n",
    "    filter_string=\"metrics.rmse > 6.6\",\n",
    "    run_view_type=ViewType.ACTIVE_ONLY,\n",
    "    max_results=5,\n",
    "    order_by=[\"metrics.rmse ASC\"]\n",
    ")"
   ]
  },
  {
   "cell_type": "code",
   "execution_count": 23,
   "id": "928257dd",
   "metadata": {},
   "outputs": [
    {
     "name": "stdout",
     "output_type": "stream",
     "text": [
      "run id:10c41ca1c5044913aeb3b399b55ec60a, rmse:6.6196\n",
      "run id:5b767026cb504cdea56495e21410848d, rmse:6.6279\n",
      "run id:557bde03037843a2a894c6de53dc819e, rmse:6.6297\n",
      "run id:76bfe7159b6c4cf586309654e424f5e2, rmse:6.6299\n",
      "run id:8afca3a497d347bbbbc7d3b03588f47d, rmse:6.6368\n"
     ]
    }
   ],
   "source": [
    "for run in runs:\n",
    "    print(f\"run id:{run.info.run_id}, rmse:{run.data.metrics['rmse']:.4f}\")"
   ]
  },
  {
   "cell_type": "code",
   "execution_count": 19,
   "id": "fcb28d6f",
   "metadata": {},
   "outputs": [],
   "source": [
    "import mlflow"
   ]
  },
  {
   "cell_type": "code",
   "execution_count": 20,
   "id": "c1d2cf3d",
   "metadata": {},
   "outputs": [],
   "source": [
    "mlflow.set_tracking_uri(MLFLOW_TRACKING_URI)"
   ]
  },
  {
   "cell_type": "code",
   "execution_count": 30,
   "id": "ba87c5b0",
   "metadata": {},
   "outputs": [
    {
     "name": "stderr",
     "output_type": "stream",
     "text": [
      "Registered model 'nyc_taxi' already exists. Creating a new version of this model...\n",
      "Created version '3' of model 'nyc_taxi'.\n"
     ]
    },
    {
     "data": {
      "text/plain": [
       "<ModelVersion: aliases=[], creation_timestamp=1758369998896, current_stage='None', deployment_job_state=None, description=None, last_updated_timestamp=1758369998896, metrics=None, model_id=None, name='nyc_taxi', params=None, run_id=None, run_link=None, source='file:///workspaces/MLops-cookin-/02-MLflow/mlruns/1/models/m-f664fd8e209f4c739b361698cd2106c7/artifacts', status='READY', status_message=None, tags={}, user_id=None, version=3>"
      ]
     },
     "execution_count": 30,
     "metadata": {},
     "output_type": "execute_result"
    }
   ],
   "source": [
    "#appending the experiment into model\n",
    "run_id=\"m-f664fd8e209f4c739b361698cd2106c7\"\n",
    "model_uri=f\"file:///workspaces/MLops-cookin-/02-MLflow/mlruns/1/models/{run_id}/artifacts\"\n",
    "mlflow.register_model(model_uri=model_uri, name=\"nyc_taxi\")"
   ]
  },
  {
   "cell_type": "code",
   "execution_count": 32,
   "id": "61fd660d",
   "metadata": {},
   "outputs": [
    {
     "data": {
      "text/plain": [
       "[<RegisteredModel: aliases={}, creation_timestamp=1758368041023, deployment_job_id=None, deployment_job_state=None, description='this is nyc taxi predictor\\n', last_updated_timestamp=1758369998896, latest_versions=[<ModelVersion: aliases=[], creation_timestamp=1758368084276, current_stage='Staging', deployment_job_state=None, description='', last_updated_timestamp=1758368352188, metrics=None, model_id=None, name='nyc_taxi', params=None, run_id='', run_link='', source='/workspaces/MLops-cookin-/02-MLflow/mlruns/1/models/m-0bc5caf3b6f44672944186c904b0c11a/artifacts', status='READY', status_message=None, tags={'Xgboost': 'xgboost'}, user_id=None, version=2>,\n",
       "  <ModelVersion: aliases=[], creation_timestamp=1758369998896, current_stage='None', deployment_job_state=None, description=None, last_updated_timestamp=1758369998896, metrics=None, model_id=None, name='nyc_taxi', params=None, run_id=None, run_link=None, source='file:///workspaces/MLops-cookin-/02-MLflow/mlruns/1/models/m-f664fd8e209f4c739b361698cd2106c7/artifacts', status='READY', status_message=None, tags={}, user_id=None, version=3>], name='nyc_taxi', tags={}>]"
      ]
     },
     "execution_count": 32,
     "metadata": {},
     "output_type": "execute_result"
    }
   ],
   "source": [
    "client.search_registered_models()"
   ]
  },
  {
   "cell_type": "code",
   "execution_count": 35,
   "id": "857d06f4",
   "metadata": {},
   "outputs": [
    {
     "name": "stderr",
     "output_type": "stream",
     "text": [
      "/tmp/ipykernel_13751/2720639949.py:2: FutureWarning: ``mlflow.tracking.client.MlflowClient.get_latest_versions`` is deprecated since 2.9.0. Model registry stages will be removed in a future major release. To learn more about the deprecation of model registry stages, see our migration guide here: https://mlflow.org/docs/latest/model-registry.html#migrating-from-stages\n",
      "  client.get_latest_versions(name=model_name)\n"
     ]
    },
    {
     "data": {
      "text/plain": [
       "[<ModelVersion: aliases=[], creation_timestamp=1758368084276, current_stage='Staging', deployment_job_state=None, description='', last_updated_timestamp=1758368352188, metrics=None, model_id=None, name='nyc_taxi', params=None, run_id='', run_link='', source='/workspaces/MLops-cookin-/02-MLflow/mlruns/1/models/m-0bc5caf3b6f44672944186c904b0c11a/artifacts', status='READY', status_message=None, tags={'Xgboost': 'xgboost'}, user_id=None, version=2>,\n",
       " <ModelVersion: aliases=[], creation_timestamp=1758369998896, current_stage='None', deployment_job_state=None, description=None, last_updated_timestamp=1758369998896, metrics=None, model_id=None, name='nyc_taxi', params=None, run_id=None, run_link=None, source='file:///workspaces/MLops-cookin-/02-MLflow/mlruns/1/models/m-f664fd8e209f4c739b361698cd2106c7/artifacts', status='READY', status_message=None, tags={}, user_id=None, version=3>]"
      ]
     },
     "execution_count": 35,
     "metadata": {},
     "output_type": "execute_result"
    }
   ],
   "source": [
    "model_name=\"nyc_taxi\"\n",
    "client.get_latest_versions(name=model_name)"
   ]
  },
  {
   "cell_type": "code",
   "execution_count": 37,
   "id": "672d8983",
   "metadata": {},
   "outputs": [
    {
     "name": "stdout",
     "output_type": "stream",
     "text": [
      "version: 2, stage:Staging\n",
      "version: 3, stage:None\n"
     ]
    },
    {
     "name": "stderr",
     "output_type": "stream",
     "text": [
      "/tmp/ipykernel_13751/1885879352.py:2: FutureWarning: ``mlflow.tracking.client.MlflowClient.get_latest_versions`` is deprecated since 2.9.0. Model registry stages will be removed in a future major release. To learn more about the deprecation of model registry stages, see our migration guide here: https://mlflow.org/docs/latest/model-registry.html#migrating-from-stages\n",
      "  lastest_version=client.get_latest_versions(name=model_name)\n"
     ]
    }
   ],
   "source": [
    "model_name=\"nyc_taxi\"\n",
    "lastest_version=client.get_latest_versions(name=model_name)\n",
    "\n",
    "for version in lastest_version:\n",
    "    print(f\"version: {version.version}, stage:{version.current_stage}\")"
   ]
  },
  {
   "cell_type": "code",
   "execution_count": 38,
   "id": "8ca5d617",
   "metadata": {},
   "outputs": [
    {
     "name": "stderr",
     "output_type": "stream",
     "text": [
      "/tmp/ipykernel_13751/3248838605.py:1: FutureWarning: ``mlflow.tracking.client.MlflowClient.transition_model_version_stage`` is deprecated since 2.9.0. Model registry stages will be removed in a future major release. To learn more about the deprecation of model registry stages, see our migration guide here: https://mlflow.org/docs/latest/model-registry.html#migrating-from-stages\n",
      "  client.transition_model_version_stage(\n"
     ]
    },
    {
     "data": {
      "text/plain": [
       "<ModelVersion: aliases=[], creation_timestamp=1758369998896, current_stage='Staging', deployment_job_state=None, description=None, last_updated_timestamp=1758370843700, metrics=None, model_id=None, name='nyc_taxi', params=None, run_id=None, run_link=None, source='file:///workspaces/MLops-cookin-/02-MLflow/mlruns/1/models/m-f664fd8e209f4c739b361698cd2106c7/artifacts', status='READY', status_message=None, tags={}, user_id=None, version=3>"
      ]
     },
     "execution_count": 38,
     "metadata": {},
     "output_type": "execute_result"
    }
   ],
   "source": [
    "#changing the stage version\n",
    "client.transition_model_version_stage(\n",
    "    name=model_name,\n",
    "    version=3,\n",
    "    stage=\"Staging\",\n",
    "    archive_existing_versions=False\n",
    ")"
   ]
  },
  {
   "cell_type": "code",
   "execution_count": null,
   "id": "f12fc880",
   "metadata": {},
   "outputs": [],
   "source": [
    "model_version=4\n",
    "stage=\"Staging\"\n",
    "from datetime import datetime\n",
    "\n",
    "date=datetime.today().date().time()\n",
    "client.update_model_version(\n",
    "    name=model_name,\n",
    "    version=model_v\n",
    ")"
   ]
  }
 ],
 "metadata": {
  "kernelspec": {
   "display_name": "Python 3 (ipykernel)",
   "language": "python",
   "name": "python3"
  },
  "language_info": {
   "codemirror_mode": {
    "name": "ipython",
    "version": 3
   },
   "file_extension": ".py",
   "mimetype": "text/x-python",
   "name": "python",
   "nbconvert_exporter": "python",
   "pygments_lexer": "ipython3",
   "version": "3.9.12"
  }
 },
 "nbformat": 4,
 "nbformat_minor": 5
}
