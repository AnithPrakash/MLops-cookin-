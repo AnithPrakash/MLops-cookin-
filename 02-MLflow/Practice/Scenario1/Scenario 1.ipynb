{
 "cells": [
  {
   "cell_type": "code",
   "execution_count": 1,
   "id": "d09f54ea",
   "metadata": {},
   "outputs": [],
   "source": [
    "# A single data scientist praticipating in an ml competition"
   ]
  },
  {
   "cell_type": "markdown",
   "id": "650217b2",
   "metadata": {},
   "source": [
    "MLflow setup:\n",
    "    - Tracking server : no\n",
    "    - Backend store : local filesystem \n",
    "    - Artifacts store : local filesystem\n",
    "    \n",
    "The experiments can be explored locally by launching the MLFlow UI."
   ]
  },
  {
   "cell_type": "code",
   "execution_count": 2,
   "id": "2b083d2a",
   "metadata": {},
   "outputs": [],
   "source": [
    "import mlflow"
   ]
  },
  {
   "cell_type": "code",
   "execution_count": 4,
   "id": "ae79a531",
   "metadata": {},
   "outputs": [
    {
     "name": "stdout",
     "output_type": "stream",
     "text": [
      "tracking Uri : 'file:///workspaces/MLops-cookin-/02-MLflow/Practice/mlruns'\n"
     ]
    }
   ],
   "source": [
    "print(f\"tracking Uri : '{mlflow.get_tracking_uri()}'\")"
   ]
  },
  {
   "cell_type": "code",
   "execution_count": 6,
   "id": "cac00697",
   "metadata": {},
   "outputs": [
    {
     "data": {
      "text/plain": [
       "[<Experiment: artifact_location='file:///workspaces/MLops-cookin-/02-MLflow/Practice/mlruns/0', creation_time=1758620372824, experiment_id='0', last_update_time=1758620372824, lifecycle_stage='active', name='Default', tags={}>]"
      ]
     },
     "execution_count": 6,
     "metadata": {},
     "output_type": "execute_result"
    }
   ],
   "source": [
    "mlflow.search_experiments()"
   ]
  },
  {
   "cell_type": "code",
   "execution_count": 7,
   "id": "22374b1f",
   "metadata": {},
   "outputs": [],
   "source": [
    "# Creating an experiment and logging a new run"
   ]
  },
  {
   "cell_type": "code",
   "execution_count": 8,
   "id": "749069eb",
   "metadata": {},
   "outputs": [],
   "source": [
    "from sklearn.linear_model import LogisticRegression\n",
    "from sklearn.datasets import load_iris \n",
    "from sklearn.metrics import accuracy_score"
   ]
  },
  {
   "cell_type": "code",
   "execution_count": 9,
   "id": "810f177e",
   "metadata": {},
   "outputs": [
    {
     "name": "stderr",
     "output_type": "stream",
     "text": [
      "2025/09/23 09:50:44 INFO mlflow.tracking.fluent: Experiment with name 'my-experiment-1' does not exist. Creating a new experiment.\n",
      "2025/09/23 09:50:44 WARNING mlflow.models.model: `artifact_path` is deprecated. Please use `name` instead.\n",
      "2025/09/23 09:50:52 WARNING mlflow.utils.environment: Encountered an unexpected error while inferring pip requirements (model URI: /tmp/tmp1ndi9as5/model/model.pkl, flavor: sklearn). Fall back to return ['scikit-learn==1.0.2', 'cloudpickle==2.0.0']. Set logging level to DEBUG to see the full traceback. \n",
      "\u001b[31m2025/09/23 09:50:52 WARNING mlflow.models.model: Model logged without a signature and input example. Please set `input_example` parameter when logging the model to auto infer the model signature.\u001b[0m\n"
     ]
    },
    {
     "name": "stdout",
     "output_type": "stream",
     "text": [
      "default artifacts URI: 'file:///workspaces/MLops-cookin-/02-MLflow/Practice/mlruns/900025171532619311/299e82c892e14cbe980d8b5f27079640/artifacts'\n"
     ]
    }
   ],
   "source": [
    "mlflow.set_experiment(\"my-experiment-1\")\n",
    "\n",
    "with mlflow.start_run():\n",
    "    \n",
    "    X, y = load_iris(return_X_y= True)\n",
    "    \n",
    "    params={\"C\":0.1, \"random_state\": 13}\n",
    "    mlflow.log_params(params)\n",
    "    \n",
    "    lr=LogisticRegression(**params).fit(X,y)\n",
    "    y_pred=lr.predict(X)\n",
    "    mlflow.log_metric(\"accuracy\", accuracy_score(y, y_pred))\n",
    "    \n",
    "    mlflow.sklearn.log_model(lr, artifact_path=\"models\")\n",
    "    print(f\"default artifacts URI: '{mlflow.get_artifact_uri()}'\")\n",
    "    "
   ]
  },
  {
   "cell_type": "code",
   "execution_count": 11,
   "id": "953f8ba4",
   "metadata": {},
   "outputs": [
    {
     "data": {
      "text/plain": [
       "[<Experiment: artifact_location='file:///workspaces/MLops-cookin-/02-MLflow/Practice/mlruns/900025171532619311', creation_time=1758621044029, experiment_id='900025171532619311', last_update_time=1758621044029, lifecycle_stage='active', name='my-experiment-1', tags={}>,\n",
       " <Experiment: artifact_location='file:///workspaces/MLops-cookin-/02-MLflow/Practice/mlruns/0', creation_time=1758620372824, experiment_id='0', last_update_time=1758620372824, lifecycle_stage='active', name='Default', tags={}>]"
      ]
     },
     "execution_count": 11,
     "metadata": {},
     "output_type": "execute_result"
    }
   ],
   "source": [
    "mlflow.search_experiments()"
   ]
  },
  {
   "cell_type": "code",
   "execution_count": null,
   "id": "1a036d23",
   "metadata": {},
   "outputs": [],
   "source": [
    "# checkout local dir to see what are the things stored "
   ]
  }
 ],
 "metadata": {
  "kernelspec": {
   "display_name": "Python 3 (ipykernel)",
   "language": "python",
   "name": "python3"
  },
  "language_info": {
   "codemirror_mode": {
    "name": "ipython",
    "version": 3
   },
   "file_extension": ".py",
   "mimetype": "text/x-python",
   "name": "python",
   "nbconvert_exporter": "python",
   "pygments_lexer": "ipython3",
   "version": "3.9.12"
  }
 },
 "nbformat": 4,
 "nbformat_minor": 5
}
