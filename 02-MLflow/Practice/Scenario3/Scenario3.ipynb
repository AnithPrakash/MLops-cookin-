{
 "cells": [
  {
   "cell_type": "code",
   "execution_count": 1,
   "id": "4708e3ee",
   "metadata": {},
   "outputs": [],
   "source": [
    "# Multiple data scientists working on multiple ML models"
   ]
  },
  {
   "cell_type": "markdown",
   "id": "f615db28",
   "metadata": {},
   "source": [
    "MLflow setup :\n",
    "    - Tracking server : yes remote server (EC2)\n",
    "    - Backend store : sqlite database \n",
    "    - Artifacts store : s3 bucket.\n",
    " \n",
    "The experiment can be explored by accessing the remote server \n"
   ]
  },
  {
   "cell_type": "code",
   "execution_count": 2,
   "id": "9a6e3c7d",
   "metadata": {},
   "outputs": [],
   "source": [
    "import mlflow \n",
    "import os "
   ]
  },
  {
   "cell_type": "code",
   "execution_count": null,
   "id": "a38d29dc",
   "metadata": {},
   "outputs": [],
   "source": []
  }
 ],
 "metadata": {
  "kernelspec": {
   "display_name": "Python 3 (ipykernel)",
   "language": "python",
   "name": "python3"
  },
  "language_info": {
   "codemirror_mode": {
    "name": "ipython",
    "version": 3
   },
   "file_extension": ".py",
   "mimetype": "text/x-python",
   "name": "python",
   "nbconvert_exporter": "python",
   "pygments_lexer": "ipython3",
   "version": "3.9.12"
  }
 },
 "nbformat": 4,
 "nbformat_minor": 5
}
