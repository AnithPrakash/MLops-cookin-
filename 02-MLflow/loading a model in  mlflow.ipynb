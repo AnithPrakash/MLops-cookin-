{
 "cells": [
  {
   "cell_type": "code",
   "execution_count": 30,
   "id": "6ab86e50",
   "metadata": {},
   "outputs": [
    {
     "name": "stdout",
     "output_type": "stream",
     "text": [
      "Python 3.9.12\r\n"
     ]
    }
   ],
   "source": [
    "!python -V"
   ]
  },
  {
   "cell_type": "code",
   "execution_count": 31,
   "id": "f1c872c5",
   "metadata": {},
   "outputs": [],
   "source": [
    "import pandas as pd \n",
    "import seaborn as sns\n",
    "import pickle\n",
    "import matplotlib.pyplot as plt\n",
    "from sklearn.feature_extraction import DictVectorizer\n",
    "from sklearn.linear_model import LogisticRegression, LinearRegression\n",
    "from sklearn.metrics import mean_squared_error\n",
    "from sklearn.linear_model import Lasso\n",
    "from sklearn.linear_model import Ridge"
   ]
  },
  {
   "cell_type": "code",
   "execution_count": 32,
   "id": "7861dc7b",
   "metadata": {},
   "outputs": [
    {
     "data": {
      "text/plain": [
       "<Experiment: artifact_location='/workspaces/MLops-cookin-/02-MLflow/mlruns/1', creation_time=1758188410351, experiment_id='1', last_update_time=1758188410351, lifecycle_stage='active', name='Mlflow_cooking', tags={}>"
      ]
     },
     "execution_count": 32,
     "metadata": {},
     "output_type": "execute_result"
    }
   ],
   "source": [
    "import mlflow\n",
    "\n",
    "mlflow.set_tracking_uri(\"sqlite:///mlflow.db\")\n",
    "mlflow.set_experiment(\"Mlflow_cooking\")"
   ]
  },
  {
   "cell_type": "code",
   "execution_count": 33,
   "id": "1954d6b5",
   "metadata": {},
   "outputs": [
    {
     "data": {
      "text/plain": [
       "'3.1.3'"
      ]
     },
     "execution_count": 33,
     "metadata": {},
     "output_type": "execute_result"
    }
   ],
   "source": [
    "mlflow.__version__"
   ]
  },
  {
   "cell_type": "code",
   "execution_count": 34,
   "id": "db4bbf5c",
   "metadata": {},
   "outputs": [],
   "source": [
    "# making it a function for easy access\n",
    "def read_dataframe(filename):\n",
    "    df=pd.read_parquet(filename)\n",
    "\n",
    "    df.lpep_pickup_datetime = pd.to_datetime(df.lpep_pickup_datetime)\n",
    "    df.lpep_dropoff_datetime = pd.to_datetime(df.lpep_dropoff_datetime)\n",
    "\n",
    "    df['duration']=df.lpep_dropoff_datetime - df.lpep_pickup_datetime\n",
    "    df.duration = df.duration.apply(lambda td: td.total_seconds() / 60)\n",
    "\n",
    "    df=df[(df.duration >= 1.0) & (df.duration <= 62)]\n",
    "\n",
    "    categorical=['PULocationID','DOLocationID']\n",
    "    #numerical=['trip_distance']\n",
    "\n",
    "    df[categorical] = df[categorical].astype(str)\n",
    "    \n",
    "    return df"
   ]
  },
  {
   "cell_type": "code",
   "execution_count": 35,
   "id": "0d12bbda",
   "metadata": {},
   "outputs": [],
   "source": [
    "df_train=read_dataframe(\"https://d37ci6vzurychx.cloudfront.net/trip-data/green_tripdata_2021-01.parquet\")\n",
    "df_val=read_dataframe(\"https://d37ci6vzurychx.cloudfront.net/trip-data/green_tripdata_2021-02.parquet\")"
   ]
  },
  {
   "cell_type": "code",
   "execution_count": 36,
   "id": "4d3feb05",
   "metadata": {},
   "outputs": [],
   "source": [
    "target=\"duration\"\n",
    "y_train=df_train[target].values\n",
    "y_val=df_val[target].values"
   ]
  },
  {
   "cell_type": "code",
   "execution_count": 37,
   "id": "53339b3f",
   "metadata": {},
   "outputs": [],
   "source": [
    "# trying the feature combination \n",
    "df_train[\"PU_OD\"]=df_train[\"PULocationID\"] + '_' + df_train['DOLocationID']\n",
    "df_val[\"PU_OD\"]=df_val[\"PULocationID\"] + '_' + df_val['DOLocationID']"
   ]
  },
  {
   "cell_type": "code",
   "execution_count": 38,
   "id": "7c7dc0b8",
   "metadata": {},
   "outputs": [],
   "source": [
    "categorical=[\"PU_OD\"]#'PULocationID','DOLocationID']\n",
    "numerical=['trip_distance']\n",
    "\n",
    "dv=DictVectorizer()\n",
    "\n",
    "train_dicts=df_train[categorical + numerical].to_dict(orient=\"records\")\n",
    "X_train=dv.fit_transform(train_dicts)\n",
    "\n",
    "val_dicts=df_val[categorical + numerical].to_dict(orient=\"records\")\n",
    "X_val=dv.transform(val_dicts)"
   ]
  },
  {
   "cell_type": "code",
   "execution_count": 39,
   "id": "95c78c81",
   "metadata": {},
   "outputs": [],
   "source": [
    "# trying this model to xgboost\n",
    "import xgboost as xgb\n",
    "\n",
    "from hyperopt import fmin, tpe, hp, STATUS_OK, Trials\n",
    "from hyperopt.pyll import scope"
   ]
  },
  {
   "cell_type": "code",
   "execution_count": 40,
   "id": "9e0dafe4",
   "metadata": {},
   "outputs": [
    {
     "data": {
      "text/plain": [
       "'with open(\"models/preprocessor.b\", \\'wb\\') as f_out:\\n    pickle.dump(dv, f_out)'"
      ]
     },
     "execution_count": 40,
     "metadata": {},
     "output_type": "execute_result"
    }
   ],
   "source": [
    "'''with open(\"models/preprocessor.b\", 'wb') as f_out:\n",
    "    pickle.dump(dv, f_out)'''"
   ]
  },
  {
   "cell_type": "code",
   "execution_count": 41,
   "id": "8145f174",
   "metadata": {},
   "outputs": [],
   "source": [
    "train= xgb.DMatrix(X_train, label=y_train)\n",
    "valid=xgb.DMatrix(X_val, label=y_val)"
   ]
  },
  {
   "cell_type": "code",
   "execution_count": 42,
   "id": "e0fd706d",
   "metadata": {
    "scrolled": true
   },
   "outputs": [
    {
     "name": "stdout",
     "output_type": "stream",
     "text": [
      "[0]\tvalidation-rmse:11.19666\n",
      "[1]\tvalidation-rmse:10.20824\n",
      "[2]\tvalidation-rmse:9.41863\n",
      "[3]\tvalidation-rmse:8.79502\n",
      "[4]\tvalidation-rmse:8.30440\n"
     ]
    },
    {
     "name": "stderr",
     "output_type": "stream",
     "text": [
      "2025/09/20 09:40:08 WARNING mlflow.models.model: `artifact_path` is deprecated. Please use `name` instead.\n",
      "/home/codespace/anaconda3/lib/python3.9/site-packages/xgboost/core.py:158: UserWarning: [09:40:09] WARNING: /workspace/src/c_api/c_api.cc:1374: Saving model in the UBJSON format as default.  You can use file extension: `json`, `ubj` or `deprecated` to choose between formats.\n",
      "  warnings.warn(smsg, UserWarning)\n",
      "2025/09/20 09:40:11 WARNING mlflow.utils.environment: Encountered an unexpected error while inferring pip requirements (model URI: /tmp/tmp8_15dfg_/model, flavor: xgboost). Fall back to return ['xgboost==2.1.4']. Set logging level to DEBUG to see the full traceback. \n",
      "\u001b[31m2025/09/20 09:40:11 WARNING mlflow.models.model: Model logged without a signature and input example. Please set `input_example` parameter when logging the model to auto infer the model signature.\u001b[0m\n",
      "Registered model 'models' already exists. Creating a new version of this model...\n",
      "Created version '5' of model 'models'.\n"
     ]
    }
   ],
   "source": [
    "with mlflow.start_run():\n",
    "    \n",
    "    train= xgb.DMatrix(X_train, label=y_train)\n",
    "    valid=xgb.DMatrix(X_val, label=y_val)\n",
    "    \n",
    "    \n",
    "    best_params={\n",
    "        \"learning_rate\": 0.14988312150619953,\n",
    "        \"max_depth\":66,\n",
    "        \"min_child_weight\":1.0531411801474737,\n",
    "        \"objective\":\"reg:squarederror\",\n",
    "        \"reg_alpha\":0.01980913796072851,\n",
    "        \"reg_lambda\":0.042524169343261004,\n",
    "        \"seed\":13}\n",
    "    #saving the best params in mlflow\n",
    "    mlflow.log_params(best_params)\n",
    "    \n",
    "    booster=xgb.train(\n",
    "            params=best_params,\n",
    "            dtrain=train,\n",
    "            num_boost_round=5,\n",
    "            evals=[(valid, \"validation\")],\n",
    "            early_stopping_rounds=50)\n",
    "    \n",
    "    y_pred = booster.predict(valid)\n",
    "    rmse=mean_squared_error(y_val, y_pred, squared=False)\n",
    "    #saving the metrics score in mlflow\n",
    "    mlflow.log_metric(\"rmse\",rmse)\n",
    "    \n",
    "    #saving the preprocessing data in mlflow\n",
    "    mlflow.log_artifact(\"models/preprocessor.b\", artifact_path='preprocessor')\n",
    "    \n",
    "    #saving the model in mlflow\n",
    "    mlflow.xgboost.log_model(\n",
    "        xgb_model=booster,\n",
    "        artifact_path=\"xgboost\",\n",
    "        registered_model_name=\"models\"\n",
    "    )\n",
    "\n",
    "\n"
   ]
  },
  {
   "cell_type": "code",
   "execution_count": 43,
   "id": "08833988",
   "metadata": {},
   "outputs": [
    {
     "data": {
      "text/plain": [
       "'2.1.4'"
      ]
     },
     "execution_count": 43,
     "metadata": {},
     "output_type": "execute_result"
    }
   ],
   "source": [
    "xgb.__version__"
   ]
  },
  {
   "cell_type": "code",
   "execution_count": 44,
   "id": "80f97132",
   "metadata": {},
   "outputs": [],
   "source": [
    "best_params={\n",
    "        \"learning_rate\": 0.14988312150619953,\n",
    "        \"max_depth\":66,\n",
    "        \"min_child_weight\":1.0531411801474737,\n",
    "        \"objective\":\"reg:squarederror\",\n",
    "        \"reg_alpha\":0.01980913796072851,\n",
    "        \"reg_lambda\":0.042524169343261004,\n",
    "        \"seed\":13}"
   ]
  },
  {
   "cell_type": "code",
   "execution_count": 45,
   "id": "ab53b43d",
   "metadata": {},
   "outputs": [],
   "source": [
    "# this is one to save the  both preprocessing and model "
   ]
  },
  {
   "cell_type": "code",
   "execution_count": 46,
   "id": "8e7eb7db",
   "metadata": {},
   "outputs": [
    {
     "name": "stderr",
     "output_type": "stream",
     "text": [
      "/home/codespace/anaconda3/lib/python3.9/site-packages/xgboost/core.py:158: UserWarning: [09:40:11] WARNING: /workspace/src/objective/regression_obj.cu:227: reg:linear is now deprecated in favor of reg:squarederror.\n",
      "  warnings.warn(smsg, UserWarning)\n"
     ]
    },
    {
     "name": "stdout",
     "output_type": "stream",
     "text": [
      "[0]\tvalidation-rmse:11.19666\n",
      "[1]\tvalidation-rmse:10.20824\n",
      "[2]\tvalidation-rmse:9.41863\n",
      "[3]\tvalidation-rmse:8.79502\n",
      "[4]\tvalidation-rmse:8.30440\n",
      "[5]\tvalidation-rmse:7.92164\n",
      "[6]\tvalidation-rmse:7.62675\n",
      "[7]\tvalidation-rmse:7.39581\n",
      "[8]\tvalidation-rmse:7.21975\n",
      "[9]\tvalidation-rmse:7.08243\n"
     ]
    },
    {
     "name": "stderr",
     "output_type": "stream",
     "text": [
      "/home/codespace/anaconda3/lib/python3.9/site-packages/xgboost/core.py:158: UserWarning: [09:40:43] WARNING: /workspace/src/c_api/c_api.cc:1374: Saving model in the UBJSON format as default.  You can use file extension: `json`, `ubj` or `deprecated` to choose between formats.\n",
      "  warnings.warn(smsg, UserWarning)\n",
      "2025/09/20 09:40:45 WARNING mlflow.utils.environment: Encountered an unexpected error while inferring pip requirements (model URI: /tmp/tmpg22fhnt1/model, flavor: xgboost). Fall back to return ['xgboost==2.1.4']. Set logging level to DEBUG to see the full traceback. \n",
      "\u001b[31m2025/09/20 09:40:45 WARNING mlflow.models.model: Model logged without a signature and input example. Please set `input_example` parameter when logging the model to auto infer the model signature.\u001b[0m\n"
     ]
    }
   ],
   "source": [
    "with mlflow.start_run():\n",
    "    \n",
    "    train= xgb.DMatrix(X_train, label=y_train)\n",
    "    valid=xgb.DMatrix(X_val, label=y_val)\n",
    "    \n",
    "    \n",
    "    best_params={\n",
    "        \"learning_rate\": 0.14988312150619953,\n",
    "        \"max_depth\":66,\n",
    "        \"min_child_weight\":1.0531411801474737,\n",
    "        \"objective\":\"reg:linear\",\n",
    "        \"reg_alpha\":0.01980913796072851,\n",
    "        \"reg_lambda\":0.042524169343261004,\n",
    "        \"seed\":13}\n",
    "    #saving the best params in mlflow\n",
    "    mlflow.log_params(best_params)\n",
    "    \n",
    "    booster=xgb.train(\n",
    "            params=best_params,\n",
    "            dtrain=train,\n",
    "            num_boost_round=10,\n",
    "            evals=[(valid, \"validation\")],\n",
    "            early_stopping_rounds=50)\n",
    "    \n",
    "    y_pred = booster.predict(valid)\n",
    "    rmse=mean_squared_error(y_val, y_pred, squared=False)\n",
    "    #saving the metrics score in mlflow\n",
    "    mlflow.log_metric(\"rmse\",rmse)\n",
    "    \n",
    "    #with open(\"models/preprocessor.b\", 'wb') as f_out:\n",
    "        #pickle.dump(dv, f_out)\n",
    "    #saving the preprocessing data in mlflow\n",
    "    #mlflow.log_artifact(\"models/preprocessor.b\", artifact_path='preprocessor')\n",
    "    \n",
    "    #saving the model in mlflow\n",
    "    mlflow.xgboost.log_model(booster, name=\"model_mlflow\", code_paths=[\"models/\"])"
   ]
  },
  {
   "cell_type": "code",
   "execution_count": 47,
   "id": "83921ff8",
   "metadata": {},
   "outputs": [
    {
     "data": {
      "text/plain": [
       "'3.1.3'"
      ]
     },
     "execution_count": 47,
     "metadata": {},
     "output_type": "execute_result"
    }
   ],
   "source": [
    "mlflow.__version__"
   ]
  },
  {
   "cell_type": "markdown",
   "id": "8478591c",
   "metadata": {},
   "source": [
    "The loading model and making the prediction"
   ]
  },
  {
   "cell_type": "code",
   "execution_count": 48,
   "id": "abf368e6",
   "metadata": {},
   "outputs": [
    {
     "name": "stderr",
     "output_type": "stream",
     "text": [
      "2025/09/20 09:40:45 WARNING mlflow.utils.requirements_utils: Detected one or more mismatches between the model's dependencies and the current Python environment:\n",
      " - mlflow (current: 3.1.3, required: mlflow==3.1.4)\n",
      "To fix the mismatches, call `mlflow.pyfunc.get_model_dependencies(model_uri)` to fetch the model's environment and install dependencies using the resulting environment file.\n"
     ]
    }
   ],
   "source": [
    "model_uri = \"file:///workspaces/MLops-cookin-/02-MLflow/mlruns/1/models/m-f664fd8e209f4c739b361698cd2106c7/artifacts\"\n",
    "\n",
    "# Load the booster back\n",
    "booster = mlflow.pyfunc.load_model(model_uri)"
   ]
  },
  {
   "cell_type": "code",
   "execution_count": 49,
   "id": "af94aba0",
   "metadata": {},
   "outputs": [
    {
     "data": {
      "text/plain": [
       "mlflow.pyfunc.loaded_model:\n",
       "  artifact_path: /workspaces/MLops-cookin-/02-MLflow/mlruns/1/models/m-f664fd8e209f4c739b361698cd2106c7/artifacts\n",
       "  flavor: mlflow.xgboost\n",
       "  run_id: 84b53fb51d0f4fc183dd524aefad1b64"
      ]
     },
     "execution_count": 49,
     "metadata": {},
     "output_type": "execute_result"
    }
   ],
   "source": [
    "booster"
   ]
  },
  {
   "cell_type": "code",
   "execution_count": 50,
   "id": "c4ae2ee0",
   "metadata": {},
   "outputs": [],
   "source": [
    "xgboost_model= mlflow.xgboost.load_model(model_uri)"
   ]
  },
  {
   "cell_type": "code",
   "execution_count": 51,
   "id": "9872e049",
   "metadata": {},
   "outputs": [
    {
     "data": {
      "text/plain": [
       "<xgboost.core.Booster at 0x76cc188ca370>"
      ]
     },
     "execution_count": 51,
     "metadata": {},
     "output_type": "execute_result"
    }
   ],
   "source": [
    "xgboost_model"
   ]
  },
  {
   "cell_type": "code",
   "execution_count": 52,
   "id": "fb0e655a",
   "metadata": {},
   "outputs": [],
   "source": [
    "y_pred=xgboost_model.predict(valid)"
   ]
  },
  {
   "cell_type": "code",
   "execution_count": 53,
   "id": "f75bb6d9",
   "metadata": {},
   "outputs": [
    {
     "data": {
      "text/plain": [
       "array([15.161994, 11.486106, 18.373766, 21.084461, 12.870551, 17.09591 ,\n",
       "       15.24416 , 12.267187, 12.706985, 18.904097], dtype=float32)"
      ]
     },
     "execution_count": 53,
     "metadata": {},
     "output_type": "execute_result"
    }
   ],
   "source": [
    "y_pred[:10]"
   ]
  },
  {
   "cell_type": "code",
   "execution_count": 1,
   "id": "a6e459cd",
   "metadata": {},
   "outputs": [
    {
     "ename": "NameError",
     "evalue": "name 'mlflow' is not defined",
     "output_type": "error",
     "traceback": [
      "\u001b[0;31m---------------------------------------------------------------------------\u001b[0m",
      "\u001b[0;31mNameError\u001b[0m                                 Traceback (most recent call last)",
      "Input \u001b[0;32mIn [1]\u001b[0m, in \u001b[0;36m<cell line: 6>\u001b[0;34m()\u001b[0m\n\u001b[1;32m      3\u001b[0m \u001b[38;5;28;01mfrom\u001b[39;00m \u001b[38;5;21;01msklearn\u001b[39;00m\u001b[38;5;21;01m.\u001b[39;00m\u001b[38;5;21;01mensemble\u001b[39;00m \u001b[38;5;28;01mimport\u001b[39;00m RandomForestRegressor, GradientBoostingRegressor, ExtraTreesRegressor\n\u001b[1;32m      4\u001b[0m \u001b[38;5;28;01mfrom\u001b[39;00m \u001b[38;5;21;01msklearn\u001b[39;00m\u001b[38;5;21;01m.\u001b[39;00m\u001b[38;5;21;01msvm\u001b[39;00m \u001b[38;5;28;01mimport\u001b[39;00m LinearSVR\n\u001b[0;32m----> 6\u001b[0m \u001b[43mmlflow\u001b[49m\u001b[38;5;241m.\u001b[39msklearn\u001b[38;5;241m.\u001b[39mautolog()\n\u001b[1;32m      8\u001b[0m \u001b[38;5;28;01mfor\u001b[39;00m model_class \u001b[38;5;129;01min\u001b[39;00m (RandomForestRegressor, GradientBoostingRegressor, ExtraTreesRegressor, LinearSVR):\n\u001b[1;32m     10\u001b[0m     \u001b[38;5;28;01mwith\u001b[39;00m mlflow\u001b[38;5;241m.\u001b[39mstart_run():\n",
      "\u001b[0;31mNameError\u001b[0m: name 'mlflow' is not defined"
     ]
    }
   ],
   "source": [
    "# trying different models\n",
    "\n",
    "from sklearn.ensemble import RandomForestRegressor, GradientBoostingRegressor, ExtraTreesRegressor\n",
    "from sklearn.svm import LinearSVR\n",
    "\n",
    "mlflow.sklearn.autolog()\n",
    "\n",
    "for model_class in (RandomForestRegressor, GradientBoostingRegressor, ExtraTreesRegressor, LinearSVR):\n",
    "    \n",
    "    with mlflow.start_run():\n",
    "        mlflow.log_param(\"train-data-path\", \"./data/green_tripdata_2021-01.csv\")\n",
    "        mlflow.log_param(\"valid-data-path\", \"./data/green_tripdata_2021-02.csv\")\n",
    "        #mlflow.log_artifact(\"models/preprocessor.b\", artifact_path=\"preprocessor\")\n",
    "        \n",
    "        \n",
    "        mlmodel = model_class()\n",
    "        mlmodel.fit(X_train, y_train)\n",
    "\n",
    "        y_pred = mlmodel.predict(X_val)\n",
    "        rmse = mean_squared_error(y_val, y_pred, squared=False)\n",
    "        mlflow.log_metric(\"rmse\", rmse)\n"
   ]
  },
  {
   "cell_type": "code",
   "execution_count": null,
   "id": "17c95be9",
   "metadata": {},
   "outputs": [],
   "source": []
  }
 ],
 "metadata": {
  "kernelspec": {
   "display_name": "Python 3 (ipykernel)",
   "language": "python",
   "name": "python3"
  },
  "language_info": {
   "codemirror_mode": {
    "name": "ipython",
    "version": 3
   },
   "file_extension": ".py",
   "mimetype": "text/x-python",
   "name": "python",
   "nbconvert_exporter": "python",
   "pygments_lexer": "ipython3",
   "version": "3.9.12"
  }
 },
 "nbformat": 4,
 "nbformat_minor": 5
}
