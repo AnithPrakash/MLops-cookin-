{
 "cells": [
  {
   "cell_type": "code",
   "execution_count": 2,
   "id": "6ab86e50",
   "metadata": {},
   "outputs": [
    {
     "name": "stdout",
     "output_type": "stream",
     "text": [
      "Python 3.9.12\r\n"
     ]
    }
   ],
   "source": [
    "!python -V"
   ]
  },
  {
   "cell_type": "code",
   "execution_count": 3,
   "id": "f1c872c5",
   "metadata": {},
   "outputs": [],
   "source": [
    "import pandas as pd \n",
    "import seaborn as sns\n",
    "import pickle\n",
    "import matplotlib.pyplot as plt\n",
    "from sklearn.feature_extraction import DictVectorizer\n",
    "from sklearn.linear_model import LogisticRegression, LinearRegression\n",
    "from sklearn.metrics import mean_squared_error\n",
    "from sklearn.linear_model import Lasso\n",
    "from sklearn.linear_model import Ridge"
   ]
  },
  {
   "cell_type": "code",
   "execution_count": 4,
   "id": "7861dc7b",
   "metadata": {},
   "outputs": [
    {
     "name": "stderr",
     "output_type": "stream",
     "text": [
      "2025/09/19 17:57:44 INFO mlflow.store.db.utils: Creating initial MLflow database tables...\n",
      "2025/09/19 17:57:44 INFO mlflow.store.db.utils: Updating database tables\n",
      "INFO  [alembic.runtime.migration] Context impl SQLiteImpl.\n",
      "INFO  [alembic.runtime.migration] Will assume non-transactional DDL.\n",
      "INFO  [alembic.runtime.migration] Context impl SQLiteImpl.\n",
      "INFO  [alembic.runtime.migration] Will assume non-transactional DDL.\n"
     ]
    },
    {
     "data": {
      "text/plain": [
       "<Experiment: artifact_location='/workspaces/MLops-cookin-/02-MLflow/mlruns/1', creation_time=1758188410351, experiment_id='1', last_update_time=1758188410351, lifecycle_stage='active', name='Mlflow_cooking', tags={}>"
      ]
     },
     "execution_count": 4,
     "metadata": {},
     "output_type": "execute_result"
    }
   ],
   "source": [
    "import mlflow\n",
    "\n",
    "mlflow.set_tracking_uri(\"sqlite:///mlflow.db\")\n",
    "mlflow.set_experiment(\"Mlflow_cooking\")"
   ]
  },
  {
   "cell_type": "code",
   "execution_count": 5,
   "id": "1954d6b5",
   "metadata": {},
   "outputs": [
    {
     "data": {
      "text/plain": [
       "'3.1.4'"
      ]
     },
     "execution_count": 5,
     "metadata": {},
     "output_type": "execute_result"
    }
   ],
   "source": [
    "mlflow.__version__"
   ]
  },
  {
   "cell_type": "code",
   "execution_count": 6,
   "id": "db4bbf5c",
   "metadata": {},
   "outputs": [],
   "source": [
    "# making it a function for easy access\n",
    "def read_dataframe(filename):\n",
    "    df=pd.read_parquet(filename)\n",
    "\n",
    "    df.lpep_pickup_datetime = pd.to_datetime(df.lpep_pickup_datetime)\n",
    "    df.lpep_dropoff_datetime = pd.to_datetime(df.lpep_dropoff_datetime)\n",
    "\n",
    "    df['duration']=df.lpep_dropoff_datetime - df.lpep_pickup_datetime\n",
    "    df.duration = df.duration.apply(lambda td: td.total_seconds() / 60)\n",
    "\n",
    "    df=df[(df.duration >= 1.0) & (df.duration <= 62)]\n",
    "\n",
    "    categorical=['PULocationID','DOLocationID']\n",
    "    #numerical=['trip_distance']\n",
    "\n",
    "    df[categorical] = df[categorical].astype(str)\n",
    "    \n",
    "    return df"
   ]
  },
  {
   "cell_type": "code",
   "execution_count": 7,
   "id": "0d12bbda",
   "metadata": {},
   "outputs": [],
   "source": [
    "df_train=read_dataframe(\"https://d37ci6vzurychx.cloudfront.net/trip-data/green_tripdata_2021-01.parquet\")\n",
    "df_val=read_dataframe(\"https://d37ci6vzurychx.cloudfront.net/trip-data/green_tripdata_2021-02.parquet\")"
   ]
  },
  {
   "cell_type": "code",
   "execution_count": 8,
   "id": "4d3feb05",
   "metadata": {},
   "outputs": [],
   "source": [
    "target=\"duration\"\n",
    "y_train=df_train[target].values\n",
    "y_val=df_val[target].values"
   ]
  },
  {
   "cell_type": "code",
   "execution_count": 9,
   "id": "53339b3f",
   "metadata": {},
   "outputs": [],
   "source": [
    "# trying the feature combination \n",
    "df_train[\"PU_OD\"]=df_train[\"PULocationID\"] + '_' + df_train['DOLocationID']\n",
    "df_val[\"PU_OD\"]=df_val[\"PULocationID\"] + '_' + df_val['DOLocationID']"
   ]
  },
  {
   "cell_type": "code",
   "execution_count": 10,
   "id": "7c7dc0b8",
   "metadata": {},
   "outputs": [],
   "source": [
    "categorical=[\"PU_OD\"]#'PULocationID','DOLocationID']\n",
    "numerical=['trip_distance']\n",
    "\n",
    "dv=DictVectorizer()\n",
    "\n",
    "train_dicts=df_train[categorical + numerical].to_dict(orient=\"records\")\n",
    "X_train=dv.fit_transform(train_dicts)\n",
    "\n",
    "val_dicts=df_val[categorical + numerical].to_dict(orient=\"records\")\n",
    "X_val=dv.transform(val_dicts)"
   ]
  },
  {
   "cell_type": "code",
   "execution_count": 11,
   "id": "95c78c81",
   "metadata": {},
   "outputs": [],
   "source": [
    "# trying this model to xgboost\n",
    "import xgboost as xgb\n",
    "\n",
    "from hyperopt import fmin, tpe, hp, STATUS_OK, Trials\n",
    "from hyperopt.pyll import scope"
   ]
  },
  {
   "cell_type": "code",
   "execution_count": 12,
   "id": "9e0dafe4",
   "metadata": {},
   "outputs": [
    {
     "data": {
      "text/plain": [
       "'with open(\"models/preprocessor.b\", \\'wb\\') as f_out:\\n    pickle.dump(dv, f_out)'"
      ]
     },
     "execution_count": 12,
     "metadata": {},
     "output_type": "execute_result"
    }
   ],
   "source": [
    "'''with open(\"models/preprocessor.b\", 'wb') as f_out:\n",
    "    pickle.dump(dv, f_out)'''"
   ]
  },
  {
   "cell_type": "code",
   "execution_count": 20,
   "id": "8145f174",
   "metadata": {},
   "outputs": [],
   "source": [
    "train= xgb.DMatrix(X_train, label=y_train)\n",
    "valid=xgb.DMatrix(X_val, label=y_val)"
   ]
  },
  {
   "cell_type": "code",
   "execution_count": 13,
   "id": "e0fd706d",
   "metadata": {
    "scrolled": true
   },
   "outputs": [
    {
     "data": {
      "text/plain": [
       "'with mlflow.start_run():\\n    \\n    train= xgb.DMatrix(X_train, label=y_train)\\n    valid=xgb.DMatrix(X_val, label=y_val)\\n    \\n    \\n    best_params={\\n        \"learning_rate\": 0.14988312150619953,\\n        \"max_depth\":66,\\n        \"min_child_weight\":1.0531411801474737,\\n        \"objective\":\"reg:squarederror\",\\n        \"reg_alpha\":0.01980913796072851,\\n        \"reg_lambda\":0.042524169343261004,\\n        \"seed\":13}\\n    #saving the best params in mlflow\\n    mlflow.log_params(best_params)\\n    \\n    booster=xgb.train(\\n            params=best_params,\\n            dtrain=train,\\n            num_boost_round=5,\\n            evals=[(valid, \"validation\")],\\n            early_stopping_rounds=50)\\n    \\n    y_pred = booster.predict(valid)\\n    rmse=mean_squared_error(y_val, y_pred, squared=False)\\n    #saving the metrics score in mlflow\\n    mlflow.log_metric(\"rmse\",rmse)\\n    \\n    #saving the preprocessing data in mlflow\\n    #mlflow.log_artifact(\"models/preprocessor.b\", artifact_path=\\'preprocessor\\')\\n    \\n    #saving the model in mlflow\\n    mlflow.xgboost.log_model(xgb_model=booster, name=\"xgboost\",\\n                            code_paths=[\\'models/\\'])'"
      ]
     },
     "execution_count": 13,
     "metadata": {},
     "output_type": "execute_result"
    }
   ],
   "source": [
    "with mlflow.start_run():\n",
    "    \n",
    "    train= xgb.DMatrix(X_train, label=y_train)\n",
    "    valid=xgb.DMatrix(X_val, label=y_val)\n",
    "    \n",
    "    \n",
    "    best_params={\n",
    "        \"learning_rate\": 0.14988312150619953,\n",
    "        \"max_depth\":66,\n",
    "        \"min_child_weight\":1.0531411801474737,\n",
    "        \"objective\":\"reg:squarederror\",\n",
    "        \"reg_alpha\":0.01980913796072851,\n",
    "        \"reg_lambda\":0.042524169343261004,\n",
    "        \"seed\":13}\n",
    "    #saving the best params in mlflow\n",
    "    mlflow.log_params(best_params)\n",
    "    \n",
    "    booster=xgb.train(\n",
    "            params=best_params,\n",
    "            dtrain=train,\n",
    "            num_boost_round=5,\n",
    "            evals=[(valid, \"validation\")],\n",
    "            early_stopping_rounds=50)\n",
    "    \n",
    "    y_pred = booster.predict(valid)\n",
    "    rmse=mean_squared_error(y_val, y_pred, squared=False)\n",
    "    #saving the metrics score in mlflow\n",
    "    mlflow.log_metric(\"rmse\",rmse)\n",
    "    \n",
    "    #saving the preprocessing data in mlflow\n",
    "    #mlflow.log_artifact(\"models/preprocessor.b\", artifact_path='preprocessor')\n",
    "    \n",
    "    #saving the model in mlflow\n",
    "    mlflow.xgboost.log_model(xgb_model=booster, name=\"xgboost\",\n",
    "                            code_paths=['models/'])\n",
    "\n",
    "\n"
   ]
  },
  {
   "cell_type": "code",
   "execution_count": 14,
   "id": "08833988",
   "metadata": {},
   "outputs": [
    {
     "data": {
      "text/plain": [
       "'2.1.4'"
      ]
     },
     "execution_count": 14,
     "metadata": {},
     "output_type": "execute_result"
    }
   ],
   "source": [
    "xgb.__version__"
   ]
  },
  {
   "cell_type": "code",
   "execution_count": 17,
   "id": "80f97132",
   "metadata": {},
   "outputs": [],
   "source": [
    "best_params={\n",
    "        \"learning_rate\": 0.14988312150619953,\n",
    "        \"max_depth\":66,\n",
    "        \"min_child_weight\":1.0531411801474737,\n",
    "        \"objective\":\"reg:squarederror\",\n",
    "        \"reg_alpha\":0.01980913796072851,\n",
    "        \"reg_lambda\":0.042524169343261004,\n",
    "        \"seed\":13}"
   ]
  },
  {
   "cell_type": "code",
   "execution_count": null,
   "id": "83921ff8",
   "metadata": {},
   "outputs": [],
   "source": []
  }
 ],
 "metadata": {
  "kernelspec": {
   "display_name": "Python 3 (ipykernel)",
   "language": "python",
   "name": "python3"
  },
  "language_info": {
   "codemirror_mode": {
    "name": "ipython",
    "version": 3
   },
   "file_extension": ".py",
   "mimetype": "text/x-python",
   "name": "python",
   "nbconvert_exporter": "python",
   "pygments_lexer": "ipython3",
   "version": "3.9.12"
  }
 },
 "nbformat": 4,
 "nbformat_minor": 5
}
