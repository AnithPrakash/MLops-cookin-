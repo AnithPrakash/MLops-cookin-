{
 "cells": [
  {
   "cell_type": "code",
   "execution_count": 1,
   "id": "6ab86e50",
   "metadata": {},
   "outputs": [
    {
     "name": "stdout",
     "output_type": "stream",
     "text": [
      "Python 3.9.12\r\n"
     ]
    }
   ],
   "source": [
    "!python -V"
   ]
  },
  {
   "cell_type": "code",
   "execution_count": 4,
   "id": "f1c872c5",
   "metadata": {},
   "outputs": [],
   "source": [
    "import pandas as pd \n",
    "import pickle\n",
    "from sklearn.feature_extraction import DictVectorizer\n",
    "from sklearn.metrics import mean_squared_error"
   ]
  },
  {
   "cell_type": "code",
   "execution_count": 6,
   "id": "0cc166ff",
   "metadata": {},
   "outputs": [
    {
     "name": "stderr",
     "output_type": "stream",
     "text": [
      "2025/09/24 10:35:01 INFO mlflow.tracking.fluent: Experiment with name 'nyc_taxi_experiment' does not exist. Creating a new experiment.\n"
     ]
    },
    {
     "data": {
      "text/plain": [
       "<Experiment: artifact_location='mlflow-artifacts:/1', creation_time=1758710101016, experiment_id='1', last_update_time=1758710101016, lifecycle_stage='active', name='nyc_taxi_experiment', tags={}>"
      ]
     },
     "execution_count": 6,
     "metadata": {},
     "output_type": "execute_result"
    }
   ],
   "source": [
    "import mlflow \n",
    "\n",
    "mlflow.set_tracking_uri(\"http://127.0.0.1:5000\")\n",
    "mlflow.set_experiment(\"nyc_taxi_experiment\")"
   ]
  },
  {
   "cell_type": "code",
   "execution_count": 10,
   "id": "db4bbf5c",
   "metadata": {},
   "outputs": [],
   "source": [
    "# making it a function for easy access\n",
    "def read_dataframe(filename):\n",
    "    df=pd.read_parquet(filename)\n",
    "\n",
    "    df['duration']=df.lpep_dropoff_datetime - df.lpep_pickup_datetime\n",
    "    df.duration = df.duration.apply(lambda td: td.total_seconds() / 60)\n",
    "\n",
    "    df=df[(df.duration >= 1.0) & (df.duration <= 62)]\n",
    "\n",
    "    categorical=['PULocationID','DOLocationID']\n",
    "    df[categorical] = df[categorical].astype(str)\n",
    "    \n",
    "    df[\"PU_OD\"]=df[\"PULocationID\"] + '_' + df['DOLocationID']\n",
    "    \n",
    "    return df"
   ]
  },
  {
   "cell_type": "code",
   "execution_count": 16,
   "id": "0d12bbda",
   "metadata": {},
   "outputs": [],
   "source": [
    "df_train=read_dataframe(\"https://d37ci6vzurychx.cloudfront.net/trip-data/green_tripdata_2021-01.parquet\")\n",
    "df_val=read_dataframe(\"https://d37ci6vzurychx.cloudfront.net/trip-data/green_tripdata_2021-02.parquet\")"
   ]
  },
  {
   "cell_type": "code",
   "execution_count": 17,
   "id": "7c7dc0b8",
   "metadata": {},
   "outputs": [],
   "source": [
    "categorical=[\"PU_OD\"]#'PULocationID','DOLocationID']\n",
    "numerical=['trip_distance']\n",
    "\n",
    "dv=DictVectorizer()\n",
    "\n",
    "train_dicts=df_train[categorical + numerical].to_dict(orient=\"records\")\n",
    "X_train=dv.fit_transform(train_dicts)\n",
    "\n",
    "val_dicts=df_val[categorical + numerical].to_dict(orient=\"records\")\n",
    "X_val=dv.transform(val_dicts)"
   ]
  },
  {
   "cell_type": "code",
   "execution_count": 18,
   "id": "57baa7a8",
   "metadata": {},
   "outputs": [],
   "source": [
    "target=\"duration\"\n",
    "y_train=df_train[target].values\n",
    "y_val=df_val[target].values"
   ]
  },
  {
   "cell_type": "code",
   "execution_count": 11,
   "id": "74a509cd",
   "metadata": {},
   "outputs": [],
   "source": [
    "# creating model on xgboost"
   ]
  },
  {
   "cell_type": "code",
   "execution_count": 21,
   "id": "a1e14c11",
   "metadata": {},
   "outputs": [],
   "source": [
    "import xgboost as xgb \n",
    "\n",
    "from pathlib import Path"
   ]
  },
  {
   "cell_type": "code",
   "execution_count": 22,
   "id": "c6efe9bf",
   "metadata": {},
   "outputs": [],
   "source": [
    "models_folder = Path('models')\n",
    "models_folder.mkdir(exist_ok=True)"
   ]
  },
  {
   "cell_type": "code",
   "execution_count": 27,
   "id": "e7bc73b1",
   "metadata": {},
   "outputs": [
    {
     "name": "stderr",
     "output_type": "stream",
     "text": [
      "/home/codespace/anaconda3/lib/python3.9/site-packages/xgboost/core.py:158: UserWarning: [10:59:10] WARNING: /workspace/src/objective/regression_obj.cu:227: reg:linear is now deprecated in favor of reg:squarederror.\n",
      "  warnings.warn(smsg, UserWarning)\n"
     ]
    },
    {
     "name": "stdout",
     "output_type": "stream",
     "text": [
      "[0]\tvalidation-rmse:11.19666\n",
      "[1]\tvalidation-rmse:10.20824\n",
      "[2]\tvalidation-rmse:9.41863\n",
      "[3]\tvalidation-rmse:8.79502\n",
      "[4]\tvalidation-rmse:8.30440\n",
      "[5]\tvalidation-rmse:7.92164\n",
      "[6]\tvalidation-rmse:7.62675\n",
      "[7]\tvalidation-rmse:7.39581\n",
      "[8]\tvalidation-rmse:7.21975\n",
      "[9]\tvalidation-rmse:7.08243\n"
     ]
    },
    {
     "name": "stderr",
     "output_type": "stream",
     "text": [
      "/home/codespace/anaconda3/lib/python3.9/site-packages/xgboost/core.py:158: UserWarning: [10:59:42] WARNING: /workspace/src/c_api/c_api.cc:1374: Saving model in the UBJSON format as default.  You can use file extension: `json`, `ubj` or `deprecated` to choose between formats.\n",
      "  warnings.warn(smsg, UserWarning)\n",
      "2025/09/24 10:59:44 WARNING mlflow.utils.environment: Encountered an unexpected error while inferring pip requirements (model URI: /tmp/tmp1mp17oo1/model, flavor: xgboost). Fall back to return ['xgboost==2.1.4']. Set logging level to DEBUG to see the full traceback. \n",
      "\u001b[31m2025/09/24 10:59:44 WARNING mlflow.models.model: Model logged without a signature and input example. Please set `input_example` parameter when logging the model to auto infer the model signature.\u001b[0m\n"
     ]
    },
    {
     "name": "stdout",
     "output_type": "stream",
     "text": [
      "🏃 View run amazing-shoat-284 at: http://127.0.0.1:5000/#/experiments/1/runs/a037cc7d4b194121a797ddf732f8cbd3\n",
      "🧪 View experiment at: http://127.0.0.1:5000/#/experiments/1\n"
     ]
    }
   ],
   "source": [
    "with mlflow.start_run():\n",
    "    train=xgb.DMatrix(X_train, label=y_train)\n",
    "    valid=xgb.DMatrix(X_val, label=y_val)\n",
    "    \n",
    "    best_params={\n",
    "    \"learning_rate\": 0.14988312150619953,\n",
    "    \"max_depth\":66,\n",
    "    \"min_child_weight\":1.0531411801474737,\n",
    "    \"objective\":\"reg:linear\",\n",
    "    \"reg_alpha\":0.01980913796072851,\n",
    "    \"reg_lambda\":0.042524169343261004,\n",
    "    \"seed\":13}\n",
    "    \n",
    "    mlflow.log_params(best_params)\n",
    "    \n",
    "    booster=xgb.train(\n",
    "        params=best_params,\n",
    "        dtrain=train,\n",
    "        num_boost_round=10,\n",
    "        evals=[(valid, \"validation\")],\n",
    "        early_stopping_rounds=50\n",
    "    )\n",
    "    \n",
    "    y_pred=booster.predict(valid)\n",
    "    rmse=mean_squared_error(y_val, y_pred, squared=False)\n",
    "    mlflow.log_metric(\"rmse\",rmse)\n",
    "    \n",
    "    with open(\"models/preprocessor.b\", 'wb') as f_out:\n",
    "        pickle.dump(dv, f_out)\n",
    "    #mlflow.log_artifact(\"models/preprocessor.b\", artifact_path=\"preprocessor\")\n",
    "    \n",
    "    mlflow.xgboost.log_model(booster, name=\"model_mlflow\", code_paths=[\"models\"])"
   ]
  },
  {
   "cell_type": "code",
   "execution_count": null,
   "id": "c1aba501",
   "metadata": {},
   "outputs": [],
   "source": []
  }
 ],
 "metadata": {
  "kernelspec": {
   "display_name": "Python 3 (ipykernel)",
   "language": "python",
   "name": "python3"
  },
  "language_info": {
   "codemirror_mode": {
    "name": "ipython",
    "version": 3
   },
   "file_extension": ".py",
   "mimetype": "text/x-python",
   "name": "python",
   "nbconvert_exporter": "python",
   "pygments_lexer": "ipython3",
   "version": "3.9.12"
  }
 },
 "nbformat": 4,
 "nbformat_minor": 5
}
